{
 "cells": [
  {
   "cell_type": "markdown",
   "metadata": {},
   "source": [
    "# Predicting the duration of CI pipelines with Machine Learning\n",
    "\n",
    "Our customers would love to know how long their CI pipeline takes. Ideally, we would want to build a model that can account for the current state of Helix, the workitems they send, the congestion of AzDo, etc. to get a decent accurate. Unfortunately, this is a highly complex model that is quite difficult to build (but theoretically possible).\n",
    "\n",
    "Instead, we can build a model to give us a range of estimates, based on the past durations of their pipelines.\n",
    "\n",
    "Thanks to our data, we have tons of historical data that can enable us to make predictions and generate confidence intervals on the length of CI pipelines."
   ]
  },
  {
   "cell_type": "markdown",
   "metadata": {},
   "source": [
    "## Stakeholders\n",
    "\n",
    "* Our Partners (@dncpartners)\n",
    "* .NET Engineering Services (@dnceng)\n"
   ]
  },
  {
   "cell_type": "markdown",
   "metadata": {},
   "source": [
    "## Proof of Concept\n",
    "\n",
    "Here, we will follow the data science process and determine how we can reliably build a model to determine how long a CI pipeline will take.\n",
    "\n",
    "### **Question**: Given a CI pipeline, how long will it take, and how confident are we in that guess?\n",
    "\n",
    "We'll start by querying our `TimelineBuilds` data with this Kusto query:"
   ]
  },
  {
   "cell_type": "raw",
   "metadata": {},
   "source": [
    "TimelineBuilds\n",
    "| where Result == \"succeeded\"\n",
    "| where Project == \"public\"\n",
    "| where Reason == \"pullRequest\"\n",
    "| where TargetBranch == \"main\"\n",
    "| project Repository, Definition, PipelineDuration = datetime_diff('second', FinishTime, StartTime), FinishTime\n",
    "| order by FinishTime asc"
   ]
  },
  {
   "cell_type": "markdown",
   "metadata": {},
   "source": [
    "Here we're filtering by `where Result == \"succeeded\"` because a CI pipeline can fail anywhere. This can introduce outliars into our data, and cause our predictions to skew to be more optimistic than we want.\n",
    "\n",
    "Then we'll load this data into [pandas](https://pandas.pydata.org/) for analysis. For your reproducability, I've run this query and uploaded it as a gist. Pandas will load it from the network."
   ]
  },
  {
   "cell_type": "code",
   "execution_count": 511,
   "metadata": {},
   "outputs": [],
   "source": [
    "import pandas as pd\n",
    "import numpy as np\n",
    "import matplotlib.pyplot as plt\n",
    "import math\n",
    "from distfit import distfit\n",
    "from tqdm.notebook import tqdm"
   ]
  },
  {
   "cell_type": "code",
   "execution_count": 512,
   "metadata": {},
   "outputs": [
    {
     "data": {
      "text/html": [
       "<div>\n",
       "<style scoped>\n",
       "    .dataframe tbody tr th:only-of-type {\n",
       "        vertical-align: middle;\n",
       "    }\n",
       "\n",
       "    .dataframe tbody tr th {\n",
       "        vertical-align: top;\n",
       "    }\n",
       "\n",
       "    .dataframe thead th {\n",
       "        text-align: right;\n",
       "    }\n",
       "</style>\n",
       "<table border=\"1\" class=\"dataframe\">\n",
       "  <thead>\n",
       "    <tr style=\"text-align: right;\">\n",
       "      <th></th>\n",
       "      <th>Repository</th>\n",
       "      <th>Definition</th>\n",
       "      <th>SourceBranch</th>\n",
       "      <th>PipelineDuration</th>\n",
       "      <th>FinishTime</th>\n",
       "    </tr>\n",
       "  </thead>\n",
       "  <tbody>\n",
       "    <tr>\n",
       "      <th>0</th>\n",
       "      <td>dotnet/installer</td>\n",
       "      <td>\\dotnet\\installer\\installer</td>\n",
       "      <td>refs/pull/12843/merge</td>\n",
       "      <td>341</td>\n",
       "      <td>2021-12-14 22:39:16.0000000</td>\n",
       "    </tr>\n",
       "    <tr>\n",
       "      <th>1</th>\n",
       "      <td>dotnet/runtime</td>\n",
       "      <td>\\dotnet\\runtime\\dotnet-linker-tests</td>\n",
       "      <td>refs/pull/62655/merge</td>\n",
       "      <td>4180</td>\n",
       "      <td>2021-12-14 22:41:21.0000000</td>\n",
       "    </tr>\n",
       "    <tr>\n",
       "      <th>2</th>\n",
       "      <td>dotnet/roslyn</td>\n",
       "      <td>\\dotnet\\roslyn\\roslyn-integration-corehost</td>\n",
       "      <td>refs/pull/58241/merge</td>\n",
       "      <td>5530</td>\n",
       "      <td>2021-12-14 22:42:25.0000000</td>\n",
       "    </tr>\n",
       "    <tr>\n",
       "      <th>3</th>\n",
       "      <td>dotnet/source-build-reference-packages</td>\n",
       "      <td>\\dotnet\\source-build\\source-build-reference-pa...</td>\n",
       "      <td>refs/pull/308/merge</td>\n",
       "      <td>823</td>\n",
       "      <td>2021-12-14 22:45:21.0000000</td>\n",
       "    </tr>\n",
       "    <tr>\n",
       "      <th>4</th>\n",
       "      <td>dotnet/sdk</td>\n",
       "      <td>\\dotnet\\sdk\\dotnet-sdk-public-ci</td>\n",
       "      <td>refs/pull/23068/merge</td>\n",
       "      <td>2880</td>\n",
       "      <td>2021-12-14 22:47:16.0000000</td>\n",
       "    </tr>\n",
       "    <tr>\n",
       "      <th>...</th>\n",
       "      <td>...</td>\n",
       "      <td>...</td>\n",
       "      <td>...</td>\n",
       "      <td>...</td>\n",
       "      <td>...</td>\n",
       "    </tr>\n",
       "    <tr>\n",
       "      <th>69058</th>\n",
       "      <td>dotnet/runtime</td>\n",
       "      <td>\\dotnet\\runtime\\dotnet-linker-tests</td>\n",
       "      <td>refs/pull/71501/merge</td>\n",
       "      <td>5815</td>\n",
       "      <td>2022-07-05 20:54:16.0000000</td>\n",
       "    </tr>\n",
       "    <tr>\n",
       "      <th>69059</th>\n",
       "      <td>dotnet/aspnetcore</td>\n",
       "      <td>\\dotnet\\aspnetcore\\aspnetcore-components-e2e</td>\n",
       "      <td>refs/pull/42548/merge</td>\n",
       "      <td>2281</td>\n",
       "      <td>2022-07-05 20:55:21.0000000</td>\n",
       "    </tr>\n",
       "    <tr>\n",
       "      <th>69060</th>\n",
       "      <td>dotnet/runtime</td>\n",
       "      <td>\\dotnet\\runtime\\runtime-dev-innerloop</td>\n",
       "      <td>refs/pull/71203/merge</td>\n",
       "      <td>5928</td>\n",
       "      <td>2022-07-05 20:58:11.0000000</td>\n",
       "    </tr>\n",
       "    <tr>\n",
       "      <th>69061</th>\n",
       "      <td>dotnet/runtime</td>\n",
       "      <td>\\dotnet\\runtime\\runtime-staging</td>\n",
       "      <td>refs/pull/71163/merge</td>\n",
       "      <td>2976</td>\n",
       "      <td>2022-07-05 21:00:52.0000000</td>\n",
       "    </tr>\n",
       "    <tr>\n",
       "      <th>69062</th>\n",
       "      <td>dotnet/roslyn</td>\n",
       "      <td>\\dotnet\\roslyn\\roslyn-CI</td>\n",
       "      <td>refs/pull/62378/merge</td>\n",
       "      <td>6008</td>\n",
       "      <td>2022-07-05 21:02:58.0000000</td>\n",
       "    </tr>\n",
       "  </tbody>\n",
       "</table>\n",
       "<p>69063 rows × 5 columns</p>\n",
       "</div>"
      ],
      "text/plain": [
       "                                   Repository  \\\n",
       "0                            dotnet/installer   \n",
       "1                              dotnet/runtime   \n",
       "2                               dotnet/roslyn   \n",
       "3      dotnet/source-build-reference-packages   \n",
       "4                                  dotnet/sdk   \n",
       "...                                       ...   \n",
       "69058                          dotnet/runtime   \n",
       "69059                       dotnet/aspnetcore   \n",
       "69060                          dotnet/runtime   \n",
       "69061                          dotnet/runtime   \n",
       "69062                           dotnet/roslyn   \n",
       "\n",
       "                                              Definition  \\\n",
       "0                            \\dotnet\\installer\\installer   \n",
       "1                    \\dotnet\\runtime\\dotnet-linker-tests   \n",
       "2             \\dotnet\\roslyn\\roslyn-integration-corehost   \n",
       "3      \\dotnet\\source-build\\source-build-reference-pa...   \n",
       "4                       \\dotnet\\sdk\\dotnet-sdk-public-ci   \n",
       "...                                                  ...   \n",
       "69058                \\dotnet\\runtime\\dotnet-linker-tests   \n",
       "69059       \\dotnet\\aspnetcore\\aspnetcore-components-e2e   \n",
       "69060              \\dotnet\\runtime\\runtime-dev-innerloop   \n",
       "69061                    \\dotnet\\runtime\\runtime-staging   \n",
       "69062                           \\dotnet\\roslyn\\roslyn-CI   \n",
       "\n",
       "                SourceBranch  PipelineDuration                   FinishTime  \n",
       "0      refs/pull/12843/merge               341  2021-12-14 22:39:16.0000000  \n",
       "1      refs/pull/62655/merge              4180  2021-12-14 22:41:21.0000000  \n",
       "2      refs/pull/58241/merge              5530  2021-12-14 22:42:25.0000000  \n",
       "3        refs/pull/308/merge               823  2021-12-14 22:45:21.0000000  \n",
       "4      refs/pull/23068/merge              2880  2021-12-14 22:47:16.0000000  \n",
       "...                      ...               ...                          ...  \n",
       "69058  refs/pull/71501/merge              5815  2022-07-05 20:54:16.0000000  \n",
       "69059  refs/pull/42548/merge              2281  2022-07-05 20:55:21.0000000  \n",
       "69060  refs/pull/71203/merge              5928  2022-07-05 20:58:11.0000000  \n",
       "69061  refs/pull/71163/merge              2976  2022-07-05 21:00:52.0000000  \n",
       "69062  refs/pull/62378/merge              6008  2022-07-05 21:02:58.0000000  \n",
       "\n",
       "[69063 rows x 5 columns]"
      ]
     },
     "execution_count": 512,
     "metadata": {},
     "output_type": "execute_result"
    }
   ],
   "source": [
    "df = pd.read_csv(\"https://gist.githubusercontent.com/melotic/3f74d304f68c75b72b3c8b00ef9bba85/raw/ab9175234065c112bfae30bb6af703ede3847962/pipeline_durations.csv\")\n",
    "df"
   ]
  },
  {
   "cell_type": "markdown",
   "metadata": {},
   "source": [
    "We should verify that pandas has correctly typed the data. Chances are the FinishTime was not correctly parsed as a datetime object."
   ]
  },
  {
   "cell_type": "code",
   "execution_count": 513,
   "metadata": {},
   "outputs": [
    {
     "data": {
      "text/plain": [
       "Repository          object\n",
       "Definition          object\n",
       "SourceBranch        object\n",
       "PipelineDuration     int64\n",
       "FinishTime          object\n",
       "dtype: object"
      ]
     },
     "execution_count": 513,
     "metadata": {},
     "output_type": "execute_result"
    }
   ],
   "source": [
    "df.dtypes"
   ]
  },
  {
   "cell_type": "code",
   "execution_count": 514,
   "metadata": {},
   "outputs": [
    {
     "data": {
      "text/html": [
       "<div>\n",
       "<style scoped>\n",
       "    .dataframe tbody tr th:only-of-type {\n",
       "        vertical-align: middle;\n",
       "    }\n",
       "\n",
       "    .dataframe tbody tr th {\n",
       "        vertical-align: top;\n",
       "    }\n",
       "\n",
       "    .dataframe thead th {\n",
       "        text-align: right;\n",
       "    }\n",
       "</style>\n",
       "<table border=\"1\" class=\"dataframe\">\n",
       "  <thead>\n",
       "    <tr style=\"text-align: right;\">\n",
       "      <th></th>\n",
       "      <th>Repository</th>\n",
       "      <th>Definition</th>\n",
       "      <th>SourceBranch</th>\n",
       "      <th>PipelineDuration</th>\n",
       "      <th>FinishTime</th>\n",
       "    </tr>\n",
       "  </thead>\n",
       "  <tbody>\n",
       "    <tr>\n",
       "      <th>0</th>\n",
       "      <td>dotnet/installer</td>\n",
       "      <td>\\dotnet\\installer\\installer</td>\n",
       "      <td>refs/pull/12843/merge</td>\n",
       "      <td>341</td>\n",
       "      <td>2021-12-14 22:39:16</td>\n",
       "    </tr>\n",
       "    <tr>\n",
       "      <th>1</th>\n",
       "      <td>dotnet/runtime</td>\n",
       "      <td>\\dotnet\\runtime\\dotnet-linker-tests</td>\n",
       "      <td>refs/pull/62655/merge</td>\n",
       "      <td>4180</td>\n",
       "      <td>2021-12-14 22:41:21</td>\n",
       "    </tr>\n",
       "    <tr>\n",
       "      <th>2</th>\n",
       "      <td>dotnet/roslyn</td>\n",
       "      <td>\\dotnet\\roslyn\\roslyn-integration-corehost</td>\n",
       "      <td>refs/pull/58241/merge</td>\n",
       "      <td>5530</td>\n",
       "      <td>2021-12-14 22:42:25</td>\n",
       "    </tr>\n",
       "    <tr>\n",
       "      <th>3</th>\n",
       "      <td>dotnet/source-build-reference-packages</td>\n",
       "      <td>\\dotnet\\source-build\\source-build-reference-pa...</td>\n",
       "      <td>refs/pull/308/merge</td>\n",
       "      <td>823</td>\n",
       "      <td>2021-12-14 22:45:21</td>\n",
       "    </tr>\n",
       "    <tr>\n",
       "      <th>4</th>\n",
       "      <td>dotnet/sdk</td>\n",
       "      <td>\\dotnet\\sdk\\dotnet-sdk-public-ci</td>\n",
       "      <td>refs/pull/23068/merge</td>\n",
       "      <td>2880</td>\n",
       "      <td>2021-12-14 22:47:16</td>\n",
       "    </tr>\n",
       "  </tbody>\n",
       "</table>\n",
       "</div>"
      ],
      "text/plain": [
       "                               Repository  \\\n",
       "0                        dotnet/installer   \n",
       "1                          dotnet/runtime   \n",
       "2                           dotnet/roslyn   \n",
       "3  dotnet/source-build-reference-packages   \n",
       "4                              dotnet/sdk   \n",
       "\n",
       "                                          Definition           SourceBranch  \\\n",
       "0                        \\dotnet\\installer\\installer  refs/pull/12843/merge   \n",
       "1                \\dotnet\\runtime\\dotnet-linker-tests  refs/pull/62655/merge   \n",
       "2         \\dotnet\\roslyn\\roslyn-integration-corehost  refs/pull/58241/merge   \n",
       "3  \\dotnet\\source-build\\source-build-reference-pa...    refs/pull/308/merge   \n",
       "4                   \\dotnet\\sdk\\dotnet-sdk-public-ci  refs/pull/23068/merge   \n",
       "\n",
       "   PipelineDuration          FinishTime  \n",
       "0               341 2021-12-14 22:39:16  \n",
       "1              4180 2021-12-14 22:41:21  \n",
       "2              5530 2021-12-14 22:42:25  \n",
       "3               823 2021-12-14 22:45:21  \n",
       "4              2880 2021-12-14 22:47:16  "
      ]
     },
     "execution_count": 514,
     "metadata": {},
     "output_type": "execute_result"
    }
   ],
   "source": [
    "df.FinishTime = pd.to_datetime(df.FinishTime)\n",
    "df.head()"
   ]
  },
  {
   "cell_type": "markdown",
   "metadata": {},
   "source": [
    "Sweet. Now lets analyze the data, say for only pipelines in `dotnet/runtime`."
   ]
  },
  {
   "cell_type": "code",
   "execution_count": 515,
   "metadata": {},
   "outputs": [
    {
     "data": {
      "text/html": [
       "<div>\n",
       "<style scoped>\n",
       "    .dataframe tbody tr th:only-of-type {\n",
       "        vertical-align: middle;\n",
       "    }\n",
       "\n",
       "    .dataframe tbody tr th {\n",
       "        vertical-align: top;\n",
       "    }\n",
       "\n",
       "    .dataframe thead tr th {\n",
       "        text-align: left;\n",
       "    }\n",
       "\n",
       "    .dataframe thead tr:last-of-type th {\n",
       "        text-align: right;\n",
       "    }\n",
       "</style>\n",
       "<table border=\"1\" class=\"dataframe\">\n",
       "  <thead>\n",
       "    <tr>\n",
       "      <th></th>\n",
       "      <th colspan=\"8\" halign=\"left\">PipelineDuration</th>\n",
       "    </tr>\n",
       "    <tr>\n",
       "      <th></th>\n",
       "      <th>count</th>\n",
       "      <th>mean</th>\n",
       "      <th>std</th>\n",
       "      <th>min</th>\n",
       "      <th>25%</th>\n",
       "      <th>50%</th>\n",
       "      <th>75%</th>\n",
       "      <th>max</th>\n",
       "    </tr>\n",
       "    <tr>\n",
       "      <th>Definition</th>\n",
       "      <th></th>\n",
       "      <th></th>\n",
       "      <th></th>\n",
       "      <th></th>\n",
       "      <th></th>\n",
       "      <th></th>\n",
       "      <th></th>\n",
       "      <th></th>\n",
       "    </tr>\n",
       "  </thead>\n",
       "  <tbody>\n",
       "    <tr>\n",
       "      <th>\\\\dotnet.runtime</th>\n",
       "      <td>7.0</td>\n",
       "      <td>2999.428571</td>\n",
       "      <td>339.624232</td>\n",
       "      <td>2570.0</td>\n",
       "      <td>2691.50</td>\n",
       "      <td>3080.0</td>\n",
       "      <td>3310.00</td>\n",
       "      <td>3343.0</td>\n",
       "    </tr>\n",
       "    <tr>\n",
       "      <th>\\\\runtime-wasm</th>\n",
       "      <td>67.0</td>\n",
       "      <td>7652.283582</td>\n",
       "      <td>3709.837907</td>\n",
       "      <td>0.0</td>\n",
       "      <td>6618.50</td>\n",
       "      <td>8104.0</td>\n",
       "      <td>9883.00</td>\n",
       "      <td>13642.0</td>\n",
       "    </tr>\n",
       "    <tr>\n",
       "      <th>\\\\wasm-only</th>\n",
       "      <td>1.0</td>\n",
       "      <td>0.000000</td>\n",
       "      <td>NaN</td>\n",
       "      <td>0.0</td>\n",
       "      <td>0.00</td>\n",
       "      <td>0.0</td>\n",
       "      <td>0.00</td>\n",
       "      <td>0.0</td>\n",
       "    </tr>\n",
       "    <tr>\n",
       "      <th>\\dotnet\\runtime\\dotnet-linker-tests</th>\n",
       "      <td>11851.0</td>\n",
       "      <td>3620.070374</td>\n",
       "      <td>757.810531</td>\n",
       "      <td>1198.0</td>\n",
       "      <td>3134.50</td>\n",
       "      <td>3426.0</td>\n",
       "      <td>3945.00</td>\n",
       "      <td>16134.0</td>\n",
       "    </tr>\n",
       "    <tr>\n",
       "      <th>\\dotnet\\runtime\\perf-wasm</th>\n",
       "      <td>3.0</td>\n",
       "      <td>6105.000000</td>\n",
       "      <td>1534.612981</td>\n",
       "      <td>5212.0</td>\n",
       "      <td>5219.00</td>\n",
       "      <td>5226.0</td>\n",
       "      <td>6551.50</td>\n",
       "      <td>7877.0</td>\n",
       "    </tr>\n",
       "    <tr>\n",
       "      <th>\\dotnet\\runtime\\runtime</th>\n",
       "      <td>4229.0</td>\n",
       "      <td>7883.215181</td>\n",
       "      <td>3980.685290</td>\n",
       "      <td>75.0</td>\n",
       "      <td>5775.00</td>\n",
       "      <td>7351.0</td>\n",
       "      <td>11241.00</td>\n",
       "      <td>22048.0</td>\n",
       "    </tr>\n",
       "    <tr>\n",
       "      <th>\\dotnet\\runtime\\runtime-cet</th>\n",
       "      <td>6.0</td>\n",
       "      <td>4732.666667</td>\n",
       "      <td>1387.795326</td>\n",
       "      <td>2137.0</td>\n",
       "      <td>4737.50</td>\n",
       "      <td>4863.5</td>\n",
       "      <td>5494.25</td>\n",
       "      <td>6132.0</td>\n",
       "    </tr>\n",
       "    <tr>\n",
       "      <th>\\dotnet\\runtime\\runtime-community</th>\n",
       "      <td>1.0</td>\n",
       "      <td>3679.000000</td>\n",
       "      <td>NaN</td>\n",
       "      <td>3679.0</td>\n",
       "      <td>3679.00</td>\n",
       "      <td>3679.0</td>\n",
       "      <td>3679.00</td>\n",
       "      <td>3679.0</td>\n",
       "    </tr>\n",
       "    <tr>\n",
       "      <th>\\dotnet\\runtime\\runtime-coreclr crossgen2</th>\n",
       "      <td>2.0</td>\n",
       "      <td>8144.000000</td>\n",
       "      <td>1615.031888</td>\n",
       "      <td>7002.0</td>\n",
       "      <td>7573.00</td>\n",
       "      <td>8144.0</td>\n",
       "      <td>8715.00</td>\n",
       "      <td>9286.0</td>\n",
       "    </tr>\n",
       "    <tr>\n",
       "      <th>\\dotnet\\runtime\\runtime-coreclr crossgen2 outerloop</th>\n",
       "      <td>1.0</td>\n",
       "      <td>11964.000000</td>\n",
       "      <td>NaN</td>\n",
       "      <td>11964.0</td>\n",
       "      <td>11964.00</td>\n",
       "      <td>11964.0</td>\n",
       "      <td>11964.00</td>\n",
       "      <td>11964.0</td>\n",
       "    </tr>\n",
       "    <tr>\n",
       "      <th>\\dotnet\\runtime\\runtime-coreclr crossgen2-composite</th>\n",
       "      <td>2.0</td>\n",
       "      <td>8531.500000</td>\n",
       "      <td>987.828173</td>\n",
       "      <td>7833.0</td>\n",
       "      <td>8182.25</td>\n",
       "      <td>8531.5</td>\n",
       "      <td>8880.75</td>\n",
       "      <td>9230.0</td>\n",
       "    </tr>\n",
       "    <tr>\n",
       "      <th>\\dotnet\\runtime\\runtime-coreclr jitstress</th>\n",
       "      <td>22.0</td>\n",
       "      <td>19550.590909</td>\n",
       "      <td>3668.686136</td>\n",
       "      <td>13226.0</td>\n",
       "      <td>17534.25</td>\n",
       "      <td>18397.0</td>\n",
       "      <td>21948.75</td>\n",
       "      <td>26561.0</td>\n",
       "    </tr>\n",
       "    <tr>\n",
       "      <th>\\dotnet\\runtime\\runtime-coreclr jitstress-isas-arm</th>\n",
       "      <td>3.0</td>\n",
       "      <td>12996.000000</td>\n",
       "      <td>1014.078892</td>\n",
       "      <td>11846.0</td>\n",
       "      <td>12613.00</td>\n",
       "      <td>13380.0</td>\n",
       "      <td>13571.00</td>\n",
       "      <td>13762.0</td>\n",
       "    </tr>\n",
       "    <tr>\n",
       "      <th>\\dotnet\\runtime\\runtime-coreclr jitstress-isas-x86</th>\n",
       "      <td>2.0</td>\n",
       "      <td>38572.000000</td>\n",
       "      <td>374.766594</td>\n",
       "      <td>38307.0</td>\n",
       "      <td>38439.50</td>\n",
       "      <td>38572.0</td>\n",
       "      <td>38704.50</td>\n",
       "      <td>38837.0</td>\n",
       "    </tr>\n",
       "    <tr>\n",
       "      <th>\\dotnet\\runtime\\runtime-coreclr jitstressregs</th>\n",
       "      <td>1.0</td>\n",
       "      <td>16772.000000</td>\n",
       "      <td>NaN</td>\n",
       "      <td>16772.0</td>\n",
       "      <td>16772.00</td>\n",
       "      <td>16772.0</td>\n",
       "      <td>16772.00</td>\n",
       "      <td>16772.0</td>\n",
       "    </tr>\n",
       "    <tr>\n",
       "      <th>\\dotnet\\runtime\\runtime-coreclr jitstressregs-x86</th>\n",
       "      <td>2.0</td>\n",
       "      <td>13732.000000</td>\n",
       "      <td>0.000000</td>\n",
       "      <td>13732.0</td>\n",
       "      <td>13732.00</td>\n",
       "      <td>13732.0</td>\n",
       "      <td>13732.00</td>\n",
       "      <td>13732.0</td>\n",
       "    </tr>\n",
       "    <tr>\n",
       "      <th>\\dotnet\\runtime\\runtime-coreclr libraries-jitstress</th>\n",
       "      <td>1.0</td>\n",
       "      <td>14078.000000</td>\n",
       "      <td>NaN</td>\n",
       "      <td>14078.0</td>\n",
       "      <td>14078.00</td>\n",
       "      <td>14078.0</td>\n",
       "      <td>14078.00</td>\n",
       "      <td>14078.0</td>\n",
       "    </tr>\n",
       "    <tr>\n",
       "      <th>\\dotnet\\runtime\\runtime-coreclr outerloop</th>\n",
       "      <td>40.0</td>\n",
       "      <td>15460.925000</td>\n",
       "      <td>2731.713770</td>\n",
       "      <td>11578.0</td>\n",
       "      <td>13367.50</td>\n",
       "      <td>14933.5</td>\n",
       "      <td>17660.00</td>\n",
       "      <td>22324.0</td>\n",
       "    </tr>\n",
       "    <tr>\n",
       "      <th>\\dotnet\\runtime\\runtime-coreclr r2r</th>\n",
       "      <td>3.0</td>\n",
       "      <td>17788.000000</td>\n",
       "      <td>2092.593606</td>\n",
       "      <td>15834.0</td>\n",
       "      <td>16684.00</td>\n",
       "      <td>17534.0</td>\n",
       "      <td>18765.00</td>\n",
       "      <td>19996.0</td>\n",
       "    </tr>\n",
       "    <tr>\n",
       "      <th>\\dotnet\\runtime\\runtime-coreclr superpmi-asmdiff-checked-release</th>\n",
       "      <td>1.0</td>\n",
       "      <td>4353.000000</td>\n",
       "      <td>NaN</td>\n",
       "      <td>4353.0</td>\n",
       "      <td>4353.00</td>\n",
       "      <td>4353.0</td>\n",
       "      <td>4353.00</td>\n",
       "      <td>4353.0</td>\n",
       "    </tr>\n",
       "    <tr>\n",
       "      <th>\\dotnet\\runtime\\runtime-coreclr superpmi-asmdiffs</th>\n",
       "      <td>810.0</td>\n",
       "      <td>4859.561728</td>\n",
       "      <td>874.756672</td>\n",
       "      <td>1951.0</td>\n",
       "      <td>4332.00</td>\n",
       "      <td>4808.5</td>\n",
       "      <td>5294.75</td>\n",
       "      <td>16524.0</td>\n",
       "    </tr>\n",
       "    <tr>\n",
       "      <th>\\dotnet\\runtime\\runtime-coreclr superpmi-asmdiffs-checked-release</th>\n",
       "      <td>3.0</td>\n",
       "      <td>4079.333333</td>\n",
       "      <td>839.467291</td>\n",
       "      <td>3110.0</td>\n",
       "      <td>3837.00</td>\n",
       "      <td>4564.0</td>\n",
       "      <td>4564.00</td>\n",
       "      <td>4564.0</td>\n",
       "    </tr>\n",
       "    <tr>\n",
       "      <th>\\dotnet\\runtime\\runtime-coreclr superpmi-diffs</th>\n",
       "      <td>774.0</td>\n",
       "      <td>6850.878553</td>\n",
       "      <td>1160.932517</td>\n",
       "      <td>3863.0</td>\n",
       "      <td>6063.00</td>\n",
       "      <td>6735.5</td>\n",
       "      <td>7518.75</td>\n",
       "      <td>12673.0</td>\n",
       "    </tr>\n",
       "    <tr>\n",
       "      <th>\\dotnet\\runtime\\runtime-coreclr superpmi-replay</th>\n",
       "      <td>820.0</td>\n",
       "      <td>5947.107317</td>\n",
       "      <td>1128.288539</td>\n",
       "      <td>1901.0</td>\n",
       "      <td>5210.25</td>\n",
       "      <td>5792.0</td>\n",
       "      <td>6459.25</td>\n",
       "      <td>12173.0</td>\n",
       "    </tr>\n",
       "    <tr>\n",
       "      <th>\\dotnet\\runtime\\runtime-dev-innerloop</th>\n",
       "      <td>10821.0</td>\n",
       "      <td>4919.587376</td>\n",
       "      <td>499.086276</td>\n",
       "      <td>1285.0</td>\n",
       "      <td>4589.00</td>\n",
       "      <td>4888.0</td>\n",
       "      <td>5202.00</td>\n",
       "      <td>9009.0</td>\n",
       "    </tr>\n",
       "    <tr>\n",
       "      <th>\\dotnet\\runtime\\runtime-extra-platforms</th>\n",
       "      <td>38.0</td>\n",
       "      <td>8546.447368</td>\n",
       "      <td>2588.813562</td>\n",
       "      <td>2143.0</td>\n",
       "      <td>7544.75</td>\n",
       "      <td>9294.0</td>\n",
       "      <td>10103.75</td>\n",
       "      <td>13714.0</td>\n",
       "    </tr>\n",
       "    <tr>\n",
       "      <th>\\dotnet\\runtime\\runtime-jit-experimental</th>\n",
       "      <td>6.0</td>\n",
       "      <td>16422.833333</td>\n",
       "      <td>3365.664120</td>\n",
       "      <td>11912.0</td>\n",
       "      <td>15305.25</td>\n",
       "      <td>15987.0</td>\n",
       "      <td>17028.00</td>\n",
       "      <td>22198.0</td>\n",
       "    </tr>\n",
       "    <tr>\n",
       "      <th>\\dotnet\\runtime\\runtime-libraries enterprise-linux</th>\n",
       "      <td>371.0</td>\n",
       "      <td>2554.913747</td>\n",
       "      <td>399.540429</td>\n",
       "      <td>1728.0</td>\n",
       "      <td>2301.00</td>\n",
       "      <td>2498.0</td>\n",
       "      <td>2816.50</td>\n",
       "      <td>3639.0</td>\n",
       "    </tr>\n",
       "    <tr>\n",
       "      <th>\\dotnet\\runtime\\runtime-libraries-coreclr outerloop-osx</th>\n",
       "      <td>3.0</td>\n",
       "      <td>4167.333333</td>\n",
       "      <td>2402.931820</td>\n",
       "      <td>2780.0</td>\n",
       "      <td>2780.00</td>\n",
       "      <td>2780.0</td>\n",
       "      <td>4861.00</td>\n",
       "      <td>6942.0</td>\n",
       "    </tr>\n",
       "    <tr>\n",
       "      <th>\\dotnet\\runtime\\runtime-manual</th>\n",
       "      <td>2.0</td>\n",
       "      <td>4212.000000</td>\n",
       "      <td>1114.400287</td>\n",
       "      <td>3424.0</td>\n",
       "      <td>3818.00</td>\n",
       "      <td>4212.0</td>\n",
       "      <td>4606.00</td>\n",
       "      <td>5000.0</td>\n",
       "    </tr>\n",
       "    <tr>\n",
       "      <th>\\dotnet\\runtime\\runtime-staging</th>\n",
       "      <td>8080.0</td>\n",
       "      <td>3840.890347</td>\n",
       "      <td>3867.644030</td>\n",
       "      <td>66.0</td>\n",
       "      <td>106.00</td>\n",
       "      <td>2221.0</td>\n",
       "      <td>7246.25</td>\n",
       "      <td>19244.0</td>\n",
       "    </tr>\n",
       "    <tr>\n",
       "      <th>\\mono\\sync-runtime-to-mono</th>\n",
       "      <td>3.0</td>\n",
       "      <td>201.000000</td>\n",
       "      <td>18.330303</td>\n",
       "      <td>181.0</td>\n",
       "      <td>193.00</td>\n",
       "      <td>205.0</td>\n",
       "      <td>211.00</td>\n",
       "      <td>217.0</td>\n",
       "    </tr>\n",
       "  </tbody>\n",
       "</table>\n",
       "</div>"
      ],
      "text/plain": [
       "                                                   PipelineDuration  \\\n",
       "                                                              count   \n",
       "Definition                                                            \n",
       "\\\\dotnet.runtime                                                7.0   \n",
       "\\\\runtime-wasm                                                 67.0   \n",
       "\\\\wasm-only                                                     1.0   \n",
       "\\dotnet\\runtime\\dotnet-linker-tests                         11851.0   \n",
       "\\dotnet\\runtime\\perf-wasm                                       3.0   \n",
       "\\dotnet\\runtime\\runtime                                      4229.0   \n",
       "\\dotnet\\runtime\\runtime-cet                                     6.0   \n",
       "\\dotnet\\runtime\\runtime-community                               1.0   \n",
       "\\dotnet\\runtime\\runtime-coreclr crossgen2                       2.0   \n",
       "\\dotnet\\runtime\\runtime-coreclr crossgen2 outer...              1.0   \n",
       "\\dotnet\\runtime\\runtime-coreclr crossgen2-compo...              2.0   \n",
       "\\dotnet\\runtime\\runtime-coreclr jitstress                      22.0   \n",
       "\\dotnet\\runtime\\runtime-coreclr jitstress-isas-arm              3.0   \n",
       "\\dotnet\\runtime\\runtime-coreclr jitstress-isas-x86              2.0   \n",
       "\\dotnet\\runtime\\runtime-coreclr jitstressregs                   1.0   \n",
       "\\dotnet\\runtime\\runtime-coreclr jitstressregs-x86               2.0   \n",
       "\\dotnet\\runtime\\runtime-coreclr libraries-jitst...              1.0   \n",
       "\\dotnet\\runtime\\runtime-coreclr outerloop                      40.0   \n",
       "\\dotnet\\runtime\\runtime-coreclr r2r                             3.0   \n",
       "\\dotnet\\runtime\\runtime-coreclr superpmi-asmdif...              1.0   \n",
       "\\dotnet\\runtime\\runtime-coreclr superpmi-asmdiffs             810.0   \n",
       "\\dotnet\\runtime\\runtime-coreclr superpmi-asmdif...              3.0   \n",
       "\\dotnet\\runtime\\runtime-coreclr superpmi-diffs                774.0   \n",
       "\\dotnet\\runtime\\runtime-coreclr superpmi-replay               820.0   \n",
       "\\dotnet\\runtime\\runtime-dev-innerloop                       10821.0   \n",
       "\\dotnet\\runtime\\runtime-extra-platforms                        38.0   \n",
       "\\dotnet\\runtime\\runtime-jit-experimental                        6.0   \n",
       "\\dotnet\\runtime\\runtime-libraries enterprise-linux            371.0   \n",
       "\\dotnet\\runtime\\runtime-libraries-coreclr outer...              3.0   \n",
       "\\dotnet\\runtime\\runtime-manual                                  2.0   \n",
       "\\dotnet\\runtime\\runtime-staging                              8080.0   \n",
       "\\mono\\sync-runtime-to-mono                                      3.0   \n",
       "\n",
       "                                                                               \\\n",
       "                                                            mean          std   \n",
       "Definition                                                                      \n",
       "\\\\dotnet.runtime                                     2999.428571   339.624232   \n",
       "\\\\runtime-wasm                                       7652.283582  3709.837907   \n",
       "\\\\wasm-only                                             0.000000          NaN   \n",
       "\\dotnet\\runtime\\dotnet-linker-tests                  3620.070374   757.810531   \n",
       "\\dotnet\\runtime\\perf-wasm                            6105.000000  1534.612981   \n",
       "\\dotnet\\runtime\\runtime                              7883.215181  3980.685290   \n",
       "\\dotnet\\runtime\\runtime-cet                          4732.666667  1387.795326   \n",
       "\\dotnet\\runtime\\runtime-community                    3679.000000          NaN   \n",
       "\\dotnet\\runtime\\runtime-coreclr crossgen2            8144.000000  1615.031888   \n",
       "\\dotnet\\runtime\\runtime-coreclr crossgen2 outer...  11964.000000          NaN   \n",
       "\\dotnet\\runtime\\runtime-coreclr crossgen2-compo...   8531.500000   987.828173   \n",
       "\\dotnet\\runtime\\runtime-coreclr jitstress           19550.590909  3668.686136   \n",
       "\\dotnet\\runtime\\runtime-coreclr jitstress-isas-arm  12996.000000  1014.078892   \n",
       "\\dotnet\\runtime\\runtime-coreclr jitstress-isas-x86  38572.000000   374.766594   \n",
       "\\dotnet\\runtime\\runtime-coreclr jitstressregs       16772.000000          NaN   \n",
       "\\dotnet\\runtime\\runtime-coreclr jitstressregs-x86   13732.000000     0.000000   \n",
       "\\dotnet\\runtime\\runtime-coreclr libraries-jitst...  14078.000000          NaN   \n",
       "\\dotnet\\runtime\\runtime-coreclr outerloop           15460.925000  2731.713770   \n",
       "\\dotnet\\runtime\\runtime-coreclr r2r                 17788.000000  2092.593606   \n",
       "\\dotnet\\runtime\\runtime-coreclr superpmi-asmdif...   4353.000000          NaN   \n",
       "\\dotnet\\runtime\\runtime-coreclr superpmi-asmdiffs    4859.561728   874.756672   \n",
       "\\dotnet\\runtime\\runtime-coreclr superpmi-asmdif...   4079.333333   839.467291   \n",
       "\\dotnet\\runtime\\runtime-coreclr superpmi-diffs       6850.878553  1160.932517   \n",
       "\\dotnet\\runtime\\runtime-coreclr superpmi-replay      5947.107317  1128.288539   \n",
       "\\dotnet\\runtime\\runtime-dev-innerloop                4919.587376   499.086276   \n",
       "\\dotnet\\runtime\\runtime-extra-platforms              8546.447368  2588.813562   \n",
       "\\dotnet\\runtime\\runtime-jit-experimental            16422.833333  3365.664120   \n",
       "\\dotnet\\runtime\\runtime-libraries enterprise-linux   2554.913747   399.540429   \n",
       "\\dotnet\\runtime\\runtime-libraries-coreclr outer...   4167.333333  2402.931820   \n",
       "\\dotnet\\runtime\\runtime-manual                       4212.000000  1114.400287   \n",
       "\\dotnet\\runtime\\runtime-staging                      3840.890347  3867.644030   \n",
       "\\mono\\sync-runtime-to-mono                            201.000000    18.330303   \n",
       "\n",
       "                                                                       \\\n",
       "                                                        min       25%   \n",
       "Definition                                                              \n",
       "\\\\dotnet.runtime                                     2570.0   2691.50   \n",
       "\\\\runtime-wasm                                          0.0   6618.50   \n",
       "\\\\wasm-only                                             0.0      0.00   \n",
       "\\dotnet\\runtime\\dotnet-linker-tests                  1198.0   3134.50   \n",
       "\\dotnet\\runtime\\perf-wasm                            5212.0   5219.00   \n",
       "\\dotnet\\runtime\\runtime                                75.0   5775.00   \n",
       "\\dotnet\\runtime\\runtime-cet                          2137.0   4737.50   \n",
       "\\dotnet\\runtime\\runtime-community                    3679.0   3679.00   \n",
       "\\dotnet\\runtime\\runtime-coreclr crossgen2            7002.0   7573.00   \n",
       "\\dotnet\\runtime\\runtime-coreclr crossgen2 outer...  11964.0  11964.00   \n",
       "\\dotnet\\runtime\\runtime-coreclr crossgen2-compo...   7833.0   8182.25   \n",
       "\\dotnet\\runtime\\runtime-coreclr jitstress           13226.0  17534.25   \n",
       "\\dotnet\\runtime\\runtime-coreclr jitstress-isas-arm  11846.0  12613.00   \n",
       "\\dotnet\\runtime\\runtime-coreclr jitstress-isas-x86  38307.0  38439.50   \n",
       "\\dotnet\\runtime\\runtime-coreclr jitstressregs       16772.0  16772.00   \n",
       "\\dotnet\\runtime\\runtime-coreclr jitstressregs-x86   13732.0  13732.00   \n",
       "\\dotnet\\runtime\\runtime-coreclr libraries-jitst...  14078.0  14078.00   \n",
       "\\dotnet\\runtime\\runtime-coreclr outerloop           11578.0  13367.50   \n",
       "\\dotnet\\runtime\\runtime-coreclr r2r                 15834.0  16684.00   \n",
       "\\dotnet\\runtime\\runtime-coreclr superpmi-asmdif...   4353.0   4353.00   \n",
       "\\dotnet\\runtime\\runtime-coreclr superpmi-asmdiffs    1951.0   4332.00   \n",
       "\\dotnet\\runtime\\runtime-coreclr superpmi-asmdif...   3110.0   3837.00   \n",
       "\\dotnet\\runtime\\runtime-coreclr superpmi-diffs       3863.0   6063.00   \n",
       "\\dotnet\\runtime\\runtime-coreclr superpmi-replay      1901.0   5210.25   \n",
       "\\dotnet\\runtime\\runtime-dev-innerloop                1285.0   4589.00   \n",
       "\\dotnet\\runtime\\runtime-extra-platforms              2143.0   7544.75   \n",
       "\\dotnet\\runtime\\runtime-jit-experimental            11912.0  15305.25   \n",
       "\\dotnet\\runtime\\runtime-libraries enterprise-linux   1728.0   2301.00   \n",
       "\\dotnet\\runtime\\runtime-libraries-coreclr outer...   2780.0   2780.00   \n",
       "\\dotnet\\runtime\\runtime-manual                       3424.0   3818.00   \n",
       "\\dotnet\\runtime\\runtime-staging                        66.0    106.00   \n",
       "\\mono\\sync-runtime-to-mono                            181.0    193.00   \n",
       "\n",
       "                                                                                \n",
       "                                                        50%       75%      max  \n",
       "Definition                                                                      \n",
       "\\\\dotnet.runtime                                     3080.0   3310.00   3343.0  \n",
       "\\\\runtime-wasm                                       8104.0   9883.00  13642.0  \n",
       "\\\\wasm-only                                             0.0      0.00      0.0  \n",
       "\\dotnet\\runtime\\dotnet-linker-tests                  3426.0   3945.00  16134.0  \n",
       "\\dotnet\\runtime\\perf-wasm                            5226.0   6551.50   7877.0  \n",
       "\\dotnet\\runtime\\runtime                              7351.0  11241.00  22048.0  \n",
       "\\dotnet\\runtime\\runtime-cet                          4863.5   5494.25   6132.0  \n",
       "\\dotnet\\runtime\\runtime-community                    3679.0   3679.00   3679.0  \n",
       "\\dotnet\\runtime\\runtime-coreclr crossgen2            8144.0   8715.00   9286.0  \n",
       "\\dotnet\\runtime\\runtime-coreclr crossgen2 outer...  11964.0  11964.00  11964.0  \n",
       "\\dotnet\\runtime\\runtime-coreclr crossgen2-compo...   8531.5   8880.75   9230.0  \n",
       "\\dotnet\\runtime\\runtime-coreclr jitstress           18397.0  21948.75  26561.0  \n",
       "\\dotnet\\runtime\\runtime-coreclr jitstress-isas-arm  13380.0  13571.00  13762.0  \n",
       "\\dotnet\\runtime\\runtime-coreclr jitstress-isas-x86  38572.0  38704.50  38837.0  \n",
       "\\dotnet\\runtime\\runtime-coreclr jitstressregs       16772.0  16772.00  16772.0  \n",
       "\\dotnet\\runtime\\runtime-coreclr jitstressregs-x86   13732.0  13732.00  13732.0  \n",
       "\\dotnet\\runtime\\runtime-coreclr libraries-jitst...  14078.0  14078.00  14078.0  \n",
       "\\dotnet\\runtime\\runtime-coreclr outerloop           14933.5  17660.00  22324.0  \n",
       "\\dotnet\\runtime\\runtime-coreclr r2r                 17534.0  18765.00  19996.0  \n",
       "\\dotnet\\runtime\\runtime-coreclr superpmi-asmdif...   4353.0   4353.00   4353.0  \n",
       "\\dotnet\\runtime\\runtime-coreclr superpmi-asmdiffs    4808.5   5294.75  16524.0  \n",
       "\\dotnet\\runtime\\runtime-coreclr superpmi-asmdif...   4564.0   4564.00   4564.0  \n",
       "\\dotnet\\runtime\\runtime-coreclr superpmi-diffs       6735.5   7518.75  12673.0  \n",
       "\\dotnet\\runtime\\runtime-coreclr superpmi-replay      5792.0   6459.25  12173.0  \n",
       "\\dotnet\\runtime\\runtime-dev-innerloop                4888.0   5202.00   9009.0  \n",
       "\\dotnet\\runtime\\runtime-extra-platforms              9294.0  10103.75  13714.0  \n",
       "\\dotnet\\runtime\\runtime-jit-experimental            15987.0  17028.00  22198.0  \n",
       "\\dotnet\\runtime\\runtime-libraries enterprise-linux   2498.0   2816.50   3639.0  \n",
       "\\dotnet\\runtime\\runtime-libraries-coreclr outer...   2780.0   4861.00   6942.0  \n",
       "\\dotnet\\runtime\\runtime-manual                       4212.0   4606.00   5000.0  \n",
       "\\dotnet\\runtime\\runtime-staging                      2221.0   7246.25  19244.0  \n",
       "\\mono\\sync-runtime-to-mono                            205.0    211.00    217.0  "
      ]
     },
     "execution_count": 515,
     "metadata": {},
     "output_type": "execute_result"
    }
   ],
   "source": [
    "df[df.Repository == \"dotnet/runtime\"].groupby('Definition').describe()"
   ]
  },
  {
   "cell_type": "markdown",
   "metadata": {},
   "source": [
    "From this, it's clear some pipelines are never used anymore (`\\\\dotnet.runtime`, `\\\\runtime-wasm`), and there are some amazing outliers, with pipelines taking days!\n",
    "\n",
    "We'll remove all pipelines that have less than 50 runs, and also remove outliars."
   ]
  },
  {
   "cell_type": "code",
   "execution_count": 516,
   "metadata": {},
   "outputs": [],
   "source": [
    "# remove definitions that don't have more than 50 runs.\n",
    "def_counts = df.Definition.value_counts()\n",
    "pipelines_50_or_more = def_counts[def_counts >= 50]\n",
    "\n",
    "df = df[df.Definition.isin(pipelines_50_or_more.index)]"
   ]
  },
  {
   "cell_type": "code",
   "execution_count": 517,
   "metadata": {},
   "outputs": [],
   "source": [
    "# filter out outliars, being mindful that each definition has a different distribution.\n",
    "df = df[df.groupby(\"Definition\").PipelineDuration.transform(\n",
    "    lambda x: (x < x.quantile(0.95)) & (x > (x.quantile(0.05)))).eq(1)]\n"
   ]
  },
  {
   "cell_type": "markdown",
   "metadata": {},
   "source": [
    "Lets describe our data again to make sure its good.\n"
   ]
  },
  {
   "cell_type": "code",
   "execution_count": 518,
   "metadata": {},
   "outputs": [
    {
     "data": {
      "text/html": [
       "<div>\n",
       "<style scoped>\n",
       "    .dataframe tbody tr th:only-of-type {\n",
       "        vertical-align: middle;\n",
       "    }\n",
       "\n",
       "    .dataframe tbody tr th {\n",
       "        vertical-align: top;\n",
       "    }\n",
       "\n",
       "    .dataframe thead tr th {\n",
       "        text-align: left;\n",
       "    }\n",
       "\n",
       "    .dataframe thead tr:last-of-type th {\n",
       "        text-align: right;\n",
       "    }\n",
       "</style>\n",
       "<table border=\"1\" class=\"dataframe\">\n",
       "  <thead>\n",
       "    <tr>\n",
       "      <th></th>\n",
       "      <th colspan=\"8\" halign=\"left\">PipelineDuration</th>\n",
       "    </tr>\n",
       "    <tr>\n",
       "      <th></th>\n",
       "      <th>count</th>\n",
       "      <th>mean</th>\n",
       "      <th>std</th>\n",
       "      <th>min</th>\n",
       "      <th>25%</th>\n",
       "      <th>50%</th>\n",
       "      <th>75%</th>\n",
       "      <th>max</th>\n",
       "    </tr>\n",
       "    <tr>\n",
       "      <th>Definition</th>\n",
       "      <th></th>\n",
       "      <th></th>\n",
       "      <th></th>\n",
       "      <th></th>\n",
       "      <th></th>\n",
       "      <th></th>\n",
       "      <th></th>\n",
       "      <th></th>\n",
       "    </tr>\n",
       "  </thead>\n",
       "  <tbody>\n",
       "    <tr>\n",
       "      <th>\\\\runtime-wasm</th>\n",
       "      <td>56.0</td>\n",
       "      <td>8197.410714</td>\n",
       "      <td>2517.986777</td>\n",
       "      <td>67.0</td>\n",
       "      <td>7064.50</td>\n",
       "      <td>8393.5</td>\n",
       "      <td>9830.25</td>\n",
       "      <td>12550.0</td>\n",
       "    </tr>\n",
       "    <tr>\n",
       "      <th>\\dotnet\\runtime\\dotnet-linker-tests</th>\n",
       "      <td>10653.0</td>\n",
       "      <td>3581.697175</td>\n",
       "      <td>577.510003</td>\n",
       "      <td>2792.0</td>\n",
       "      <td>3163.00</td>\n",
       "      <td>3426.0</td>\n",
       "      <td>3867.00</td>\n",
       "      <td>5106.0</td>\n",
       "    </tr>\n",
       "    <tr>\n",
       "      <th>\\dotnet\\runtime\\runtime</th>\n",
       "      <td>3805.0</td>\n",
       "      <td>7862.207096</td>\n",
       "      <td>3399.291982</td>\n",
       "      <td>1089.0</td>\n",
       "      <td>5921.00</td>\n",
       "      <td>7351.0</td>\n",
       "      <td>11039.00</td>\n",
       "      <td>13881.0</td>\n",
       "    </tr>\n",
       "    <tr>\n",
       "      <th>\\dotnet\\runtime\\runtime-coreclr superpmi-asmdiffs</th>\n",
       "      <td>728.0</td>\n",
       "      <td>4821.896978</td>\n",
       "      <td>591.002093</td>\n",
       "      <td>3724.0</td>\n",
       "      <td>4386.25</td>\n",
       "      <td>4808.5</td>\n",
       "      <td>5209.25</td>\n",
       "      <td>6133.0</td>\n",
       "    </tr>\n",
       "    <tr>\n",
       "      <th>\\dotnet\\runtime\\runtime-coreclr superpmi-diffs</th>\n",
       "      <td>696.0</td>\n",
       "      <td>6778.683908</td>\n",
       "      <td>813.073917</td>\n",
       "      <td>5305.0</td>\n",
       "      <td>6166.00</td>\n",
       "      <td>6735.5</td>\n",
       "      <td>7408.25</td>\n",
       "      <td>8777.0</td>\n",
       "    </tr>\n",
       "    <tr>\n",
       "      <th>\\dotnet\\runtime\\runtime-coreclr superpmi-replay</th>\n",
       "      <td>738.0</td>\n",
       "      <td>5856.476965</td>\n",
       "      <td>730.302122</td>\n",
       "      <td>4612.0</td>\n",
       "      <td>5278.50</td>\n",
       "      <td>5792.0</td>\n",
       "      <td>6383.00</td>\n",
       "      <td>7677.0</td>\n",
       "    </tr>\n",
       "    <tr>\n",
       "      <th>\\dotnet\\runtime\\runtime-dev-innerloop</th>\n",
       "      <td>9736.0</td>\n",
       "      <td>4903.413209</td>\n",
       "      <td>353.623432</td>\n",
       "      <td>4234.0</td>\n",
       "      <td>4618.00</td>\n",
       "      <td>4888.0</td>\n",
       "      <td>5166.00</td>\n",
       "      <td>5695.0</td>\n",
       "    </tr>\n",
       "    <tr>\n",
       "      <th>\\dotnet\\runtime\\runtime-libraries enterprise-linux</th>\n",
       "      <td>333.0</td>\n",
       "      <td>2549.204204</td>\n",
       "      <td>328.292232</td>\n",
       "      <td>1976.0</td>\n",
       "      <td>2309.00</td>\n",
       "      <td>2498.0</td>\n",
       "      <td>2783.00</td>\n",
       "      <td>3282.0</td>\n",
       "    </tr>\n",
       "    <tr>\n",
       "      <th>\\dotnet\\runtime\\runtime-staging</th>\n",
       "      <td>7255.0</td>\n",
       "      <td>3628.460096</td>\n",
       "      <td>3520.575601</td>\n",
       "      <td>83.0</td>\n",
       "      <td>109.00</td>\n",
       "      <td>2226.0</td>\n",
       "      <td>7030.50</td>\n",
       "      <td>10235.0</td>\n",
       "    </tr>\n",
       "  </tbody>\n",
       "</table>\n",
       "</div>"
      ],
      "text/plain": [
       "                                                   PipelineDuration  \\\n",
       "                                                              count   \n",
       "Definition                                                            \n",
       "\\\\runtime-wasm                                                 56.0   \n",
       "\\dotnet\\runtime\\dotnet-linker-tests                         10653.0   \n",
       "\\dotnet\\runtime\\runtime                                      3805.0   \n",
       "\\dotnet\\runtime\\runtime-coreclr superpmi-asmdiffs             728.0   \n",
       "\\dotnet\\runtime\\runtime-coreclr superpmi-diffs                696.0   \n",
       "\\dotnet\\runtime\\runtime-coreclr superpmi-replay               738.0   \n",
       "\\dotnet\\runtime\\runtime-dev-innerloop                        9736.0   \n",
       "\\dotnet\\runtime\\runtime-libraries enterprise-linux            333.0   \n",
       "\\dotnet\\runtime\\runtime-staging                              7255.0   \n",
       "\n",
       "                                                                              \\\n",
       "                                                           mean          std   \n",
       "Definition                                                                     \n",
       "\\\\runtime-wasm                                      8197.410714  2517.986777   \n",
       "\\dotnet\\runtime\\dotnet-linker-tests                 3581.697175   577.510003   \n",
       "\\dotnet\\runtime\\runtime                             7862.207096  3399.291982   \n",
       "\\dotnet\\runtime\\runtime-coreclr superpmi-asmdiffs   4821.896978   591.002093   \n",
       "\\dotnet\\runtime\\runtime-coreclr superpmi-diffs      6778.683908   813.073917   \n",
       "\\dotnet\\runtime\\runtime-coreclr superpmi-replay     5856.476965   730.302122   \n",
       "\\dotnet\\runtime\\runtime-dev-innerloop               4903.413209   353.623432   \n",
       "\\dotnet\\runtime\\runtime-libraries enterprise-linux  2549.204204   328.292232   \n",
       "\\dotnet\\runtime\\runtime-staging                     3628.460096  3520.575601   \n",
       "\n",
       "                                                                             \\\n",
       "                                                       min      25%     50%   \n",
       "Definition                                                                    \n",
       "\\\\runtime-wasm                                        67.0  7064.50  8393.5   \n",
       "\\dotnet\\runtime\\dotnet-linker-tests                 2792.0  3163.00  3426.0   \n",
       "\\dotnet\\runtime\\runtime                             1089.0  5921.00  7351.0   \n",
       "\\dotnet\\runtime\\runtime-coreclr superpmi-asmdiffs   3724.0  4386.25  4808.5   \n",
       "\\dotnet\\runtime\\runtime-coreclr superpmi-diffs      5305.0  6166.00  6735.5   \n",
       "\\dotnet\\runtime\\runtime-coreclr superpmi-replay     4612.0  5278.50  5792.0   \n",
       "\\dotnet\\runtime\\runtime-dev-innerloop               4234.0  4618.00  4888.0   \n",
       "\\dotnet\\runtime\\runtime-libraries enterprise-linux  1976.0  2309.00  2498.0   \n",
       "\\dotnet\\runtime\\runtime-staging                       83.0   109.00  2226.0   \n",
       "\n",
       "                                                                       \n",
       "                                                         75%      max  \n",
       "Definition                                                             \n",
       "\\\\runtime-wasm                                       9830.25  12550.0  \n",
       "\\dotnet\\runtime\\dotnet-linker-tests                  3867.00   5106.0  \n",
       "\\dotnet\\runtime\\runtime                             11039.00  13881.0  \n",
       "\\dotnet\\runtime\\runtime-coreclr superpmi-asmdiffs    5209.25   6133.0  \n",
       "\\dotnet\\runtime\\runtime-coreclr superpmi-diffs       7408.25   8777.0  \n",
       "\\dotnet\\runtime\\runtime-coreclr superpmi-replay      6383.00   7677.0  \n",
       "\\dotnet\\runtime\\runtime-dev-innerloop                5166.00   5695.0  \n",
       "\\dotnet\\runtime\\runtime-libraries enterprise-linux   2783.00   3282.0  \n",
       "\\dotnet\\runtime\\runtime-staging                      7030.50  10235.0  "
      ]
     },
     "execution_count": 518,
     "metadata": {},
     "output_type": "execute_result"
    }
   ],
   "source": [
    "df[df.Repository == \"dotnet/runtime\"].groupby('Definition').describe()"
   ]
  },
  {
   "cell_type": "markdown",
   "metadata": {},
   "source": [
    "This is looking much better.\n",
    "\n",
    "What repos do we have?"
   ]
  },
  {
   "cell_type": "code",
   "execution_count": 519,
   "metadata": {},
   "outputs": [
    {
     "data": {
      "text/plain": [
       "dotnet/runtime                            34000\n",
       "dotnet/roslyn                              7353\n",
       "dotnet/aspnetcore                          3076\n",
       "dotnet/winforms                            2588\n",
       "dotnet/sdk                                 1779\n",
       "dotnet/razor-tooling                        919\n",
       "dotnet/installer                            891\n",
       "dotnet/project-system                       816\n",
       "dotnet/msbuild                              704\n",
       "microsoft/vstest                            686\n",
       "dotnet/wpf                                  585\n",
       "dotnet/arcade                               558\n",
       "dotnet/roslyn-analyzers                     502\n",
       "dotnet/windowsdesktop                       474\n",
       "dotnet/templating                           447\n",
       "dotnet/linker                               376\n",
       "dotnet/efcore                               356\n",
       "dotnet/dotnet-monitor                       331\n",
       "dotnet/arcade-validation                    322\n",
       "dotnet/diagnostics                          286\n",
       "dotnet/machinelearning                      247\n",
       "microsoft/reverse-proxy                     209\n",
       "dotnet/xharness                             208\n",
       "dotnet/format                               207\n",
       "dotnet/Scaffolding                          184\n",
       "aspnet/AspLabs                              178\n",
       "dotnet/interactive                          175\n",
       "dotnet/arcade-services                      160\n",
       "microsoft/testfx                            151\n",
       "dotnet/roslyn-tools                         148\n",
       "dotnet/dotnet-docker                        143\n",
       "dotnet/performance                          126\n",
       "dotnet/tye                                  124\n",
       "dotnet/command-line-api                     120\n",
       "dotnet/upgrade-assistant                    116\n",
       "dotnet/fsharp                               110\n",
       "dotnet/source-build-reference-packages      100\n",
       "dotnet/spark                                 91\n",
       "dotnet/crank                                 84\n",
       "dotnet/msquic                                84\n",
       "dotnet/systemweb-adapters                    77\n",
       "dotnet/project-system-tools                  76\n",
       "dotnet/xliff-tasks                           76\n",
       "dotnet/templates                             75\n",
       "microsoft/slngen                             70\n",
       "dotnet/hotreload-utils                       69\n",
       "dotnet/razor-compiler                        68\n",
       "dotnet/docker-tools                          63\n",
       "dotnet/deployment-tools                      58\n",
       "dotnet/source-build-externals                53\n",
       "aspnet/AspNetWebHooks                        51\n",
       "dotnet/emsdk                                 51\n",
       "dotnet/symreader                             49\n",
       "dotnet/install-scripts                       47\n",
       "Microsoft/dotnet-framework-docker            46\n",
       "microsoft/go-infra                           41\n",
       "Name: Repository, dtype: int64"
      ]
     },
     "execution_count": 519,
     "metadata": {},
     "output_type": "execute_result"
    }
   ],
   "source": [
    "df.Repository.value_counts()"
   ]
  },
  {
   "cell_type": "markdown",
   "metadata": {},
   "source": [
    "For the sake of our analysis here, we'll filter our the repos that don't have build analysis enabled."
   ]
  },
  {
   "cell_type": "code",
   "execution_count": 520,
   "metadata": {},
   "outputs": [],
   "source": [
    "BUILD_ANALYSIS_REPOS = ['dotnet/arcade', 'dotnet/arcade-services', 'dotnet/aspnetcore', 'dotnet/installer', 'dotnet/performance', 'dotnet/roslyn', 'dotnet/runtime', 'dotnet/sdk']"
   ]
  },
  {
   "cell_type": "code",
   "execution_count": 521,
   "metadata": {},
   "outputs": [
    {
     "data": {
      "text/plain": [
       "dotnet/runtime            34000\n",
       "dotnet/roslyn              7353\n",
       "dotnet/aspnetcore          3076\n",
       "dotnet/sdk                 1779\n",
       "dotnet/installer            891\n",
       "dotnet/arcade               558\n",
       "dotnet/arcade-services      160\n",
       "dotnet/performance          126\n",
       "Name: Repository, dtype: int64"
      ]
     },
     "execution_count": 521,
     "metadata": {},
     "output_type": "execute_result"
    }
   ],
   "source": [
    "df = df[df.Repository.isin(BUILD_ANALYSIS_REPOS)]\n",
    "df.Repository.value_counts()"
   ]
  },
  {
   "cell_type": "markdown",
   "metadata": {},
   "source": [
    "For the pipelines in these repositories, what do their durations look like? Are there any patterns?"
   ]
  },
  {
   "cell_type": "code",
   "execution_count": 522,
   "metadata": {},
   "outputs": [
    {
     "data": {
      "image/png": "[encoded data removed]",
      "text/plain": [
       "<Figure size 1440x1440 with 20 Axes>"
      ]
     },
     "metadata": {
      "needs_background": "light"
     },
     "output_type": "display_data"
    }
   ],
   "source": [
    "df.PipelineDuration.hist(by=df.Definition, bins=100,figsize=(20,20), color='#68217a')\n",
    "plt.show()"
   ]
  },
  {
   "cell_type": "markdown",
   "metadata": {},
   "source": [
    "This is pretty cool. We can see here that while the data is noisy, we can use machine learning to fit a distribution curve over these histograms, and use them to create a confidence interval. So, lets analyze some."
   ]
  },
  {
   "cell_type": "code",
   "execution_count": 523,
   "metadata": {},
   "outputs": [],
   "source": [
    "def fit_distribution(df, definition):\n",
    "    df_subset = df[df.Definition == definition]\n",
    "    \n",
    "    dist = distfit()\n",
    "    dist.fit_transform(df_subset.PipelineDuration.to_numpy(), verbose=1)\n",
    "    \n",
    "    return dist"
   ]
  },
  {
   "cell_type": "code",
   "execution_count": 524,
   "metadata": {},
   "outputs": [],
   "source": [
    "from datetime import timedelta\n",
    "\n",
    "def pretty_interval(iv):\n",
    "    center = round((iv[0] + iv[1]) / 2)\n",
    "    width = round(iv[1] - center)\n",
    "\n",
    "    center_s = str(timedelta(seconds=center))\n",
    "    width_s = str(timedelta(seconds=width))\n",
    "    \n",
    "    return f\"{center_s} ± {width_s}\""
   ]
  },
  {
   "cell_type": "code",
   "execution_count": 525,
   "metadata": {},
   "outputs": [],
   "source": [
    "def show_model(df, definition):\n",
    "    dist = fit_distribution(df, definition)\n",
    "    dist.plot(title=definition.split('\\\\')[-1])\n",
    "\n",
    "    print(pretty_interval(dist.model['model'].interval(0.95)))\n",
    "    print(f\"RSS: {dist.model['score']}\")"
   ]
  },
  {
   "cell_type": "markdown",
   "metadata": {},
   "source": [
    "#### Worst Case: \\dotnet\\runtime\\runtime"
   ]
  },
  {
   "cell_type": "code",
   "execution_count": 526,
   "metadata": {},
   "outputs": [
    {
     "name": "stdout",
     "output_type": "stream",
     "text": [
      "[distfit] >plot..\n",
      "2:22:50 ± 1:46:20\n",
      "RSS: 8.758122531521541e-08\n"
     ]
    },
    {
     "data": {
      "image/png": "[encoded data removed]",
      "text/plain": [
       "<Figure size 720x576 with 1 Axes>"
      ]
     },
     "metadata": {
      "needs_background": "light"
     },
     "output_type": "display_data"
    }
   ],
   "source": [
    "show_model(df, \"\\\\dotnet\\\\runtime\\\\runtime\")"
   ]
  },
  {
   "cell_type": "markdown",
   "metadata": {},
   "source": [
    "#### Average Case: \\\\dotnet\\\\roslyn\\\\roslyn-CI"
   ]
  },
  {
   "cell_type": "code",
   "execution_count": 527,
   "metadata": {},
   "outputs": [
    {
     "name": "stdout",
     "output_type": "stream",
     "text": [
      "[distfit] >plot..\n",
      "1:11:41 ± 0:27:56\n",
      "RSS: 3.9375854105277243e-07\n"
     ]
    },
    {
     "data": {
      "image/png": "[encoded data removed]",
      "text/plain": [
       "<Figure size 720x576 with 1 Axes>"
      ]
     },
     "metadata": {
      "needs_background": "light"
     },
     "output_type": "display_data"
    }
   ],
   "source": [
    "show_model(df, \"\\\\dotnet\\\\roslyn\\\\roslyn-CI\")"
   ]
  },
  {
   "cell_type": "markdown",
   "metadata": {},
   "source": [
    "#### Best Case: \\\\dotnet\\\\runtime\\\\runtime-dev-innerloop"
   ]
  },
  {
   "cell_type": "code",
   "execution_count": 528,
   "metadata": {},
   "outputs": [
    {
     "name": "stdout",
     "output_type": "stream",
     "text": [
      "[distfit] >plot..\n",
      "1:22:23 ± 0:10:35\n",
      "RSS: 2.412955783444402e-07\n"
     ]
    },
    {
     "data": {
      "image/png": "[encoded data removed]",
      "text/plain": [
       "<Figure size 720x576 with 1 Axes>"
      ]
     },
     "metadata": {
      "needs_background": "light"
     },
     "output_type": "display_data"
    }
   ],
   "source": [
    "show_model(df, \"\\\\dotnet\\\\runtime\\\\runtime-dev-innerloop\")"
   ]
  },
  {
   "cell_type": "markdown",
   "metadata": {},
   "source": [
    "#### Analysis\n",
    "\n",
    "This model works *well*. Our RSS is very small, indicating a good fit. The main issue with some pipelines, like `\\dotnet\\runtime\\runtime` is that the distribution is multimodal. That runtime pipeline has 3 modes, and this makes sense if you look at the setup of their pipeline. In runtime, their first step is ['evaluate paths'](https://github.com/dotnet/runtime/blob/main/eng/pipelines/common/evaluate-default-paths.yml) that dynamically spits out Azure Pipeline Variables based on what changed in the PR. Then their pipeline runs different steps.\n",
    "\n",
    "To solve this problem, we'd have to add a custom handler for multimodal distributions to determine extra variables to make them unimodal. In the runtime case, this would mean combing through our data, finding those evaluate path steps, and parsing their job output. Then we could seperate the distributions into different cateogories. There are several issues with this approach. We have to hardcode what we're looking for in their pipeline, do lots of extra work for one specific pipeline (*i.e.* hardcode), and also wait for these steps to complete before showing any estimates. So we have 4 options:\n",
    "\n",
    "1. Show our customers a wide prediction, and cite the multimodal distribution as why\n",
    "2. Don't show our customer their prediction as its too wide\n",
    "3. Lower our confidence interval to get a reasonable estimate\n",
    "4. Implement *some* solution that can parse the CI timelines and filter the distributions."
   ]
  },
  {
   "cell_type": "markdown",
   "metadata": {},
   "source": [
    "### **Question**: Do pipeline durations have a statistically significant difference when seperated by day of the week?\n",
    "\n",
    "Intuitively, it makes sense if for example on weekends, there is less overall traffic to repos, and thus the duration should be shorter. Since we have the data from the population, we can use a z-test to determine if our results are statistically significant.\n",
    "\n",
    "$H_a$: The day of the week increases or decreases the pipeline duration.\n",
    "\n",
    "$H_0$: The day of the week has no effect on the pipeline duration.\n",
    "\n",
    "If we can reject the null hypothesis, it would be beneficial to build seperate models per day of week for the repos."
   ]
  },
  {
   "cell_type": "markdown",
   "metadata": {},
   "source": [
    "We'll start by making a copy of our data to work off of, and extend the day of week on it."
   ]
  },
  {
   "cell_type": "code",
   "execution_count": 529,
   "metadata": {},
   "outputs": [
    {
     "data": {
      "text/html": [
       "<div>\n",
       "<style scoped>\n",
       "    .dataframe tbody tr th:only-of-type {\n",
       "        vertical-align: middle;\n",
       "    }\n",
       "\n",
       "    .dataframe tbody tr th {\n",
       "        vertical-align: top;\n",
       "    }\n",
       "\n",
       "    .dataframe thead th {\n",
       "        text-align: right;\n",
       "    }\n",
       "</style>\n",
       "<table border=\"1\" class=\"dataframe\">\n",
       "  <thead>\n",
       "    <tr style=\"text-align: right;\">\n",
       "      <th></th>\n",
       "      <th>Repository</th>\n",
       "      <th>Definition</th>\n",
       "      <th>SourceBranch</th>\n",
       "      <th>PipelineDuration</th>\n",
       "      <th>FinishTime</th>\n",
       "      <th>DayOfWeek</th>\n",
       "    </tr>\n",
       "  </thead>\n",
       "  <tbody>\n",
       "    <tr>\n",
       "      <th>1</th>\n",
       "      <td>dotnet/runtime</td>\n",
       "      <td>\\dotnet\\runtime\\dotnet-linker-tests</td>\n",
       "      <td>refs/pull/62655/merge</td>\n",
       "      <td>4180</td>\n",
       "      <td>2021-12-14 22:41:21</td>\n",
       "      <td>Tuesday</td>\n",
       "    </tr>\n",
       "    <tr>\n",
       "      <th>2</th>\n",
       "      <td>dotnet/roslyn</td>\n",
       "      <td>\\dotnet\\roslyn\\roslyn-integration-corehost</td>\n",
       "      <td>refs/pull/58241/merge</td>\n",
       "      <td>5530</td>\n",
       "      <td>2021-12-14 22:42:25</td>\n",
       "      <td>Tuesday</td>\n",
       "    </tr>\n",
       "    <tr>\n",
       "      <th>4</th>\n",
       "      <td>dotnet/sdk</td>\n",
       "      <td>\\dotnet\\sdk\\dotnet-sdk-public-ci</td>\n",
       "      <td>refs/pull/23068/merge</td>\n",
       "      <td>2880</td>\n",
       "      <td>2021-12-14 22:47:16</td>\n",
       "      <td>Tuesday</td>\n",
       "    </tr>\n",
       "    <tr>\n",
       "      <th>6</th>\n",
       "      <td>dotnet/runtime</td>\n",
       "      <td>\\dotnet\\runtime\\dotnet-linker-tests</td>\n",
       "      <td>refs/pull/62814/merge</td>\n",
       "      <td>3492</td>\n",
       "      <td>2021-12-14 22:55:53</td>\n",
       "      <td>Tuesday</td>\n",
       "    </tr>\n",
       "    <tr>\n",
       "      <th>7</th>\n",
       "      <td>dotnet/installer</td>\n",
       "      <td>\\dotnet\\installer\\installer</td>\n",
       "      <td>refs/pull/12766/merge</td>\n",
       "      <td>3868</td>\n",
       "      <td>2021-12-14 22:56:14</td>\n",
       "      <td>Tuesday</td>\n",
       "    </tr>\n",
       "  </tbody>\n",
       "</table>\n",
       "</div>"
      ],
      "text/plain": [
       "         Repository                                  Definition  \\\n",
       "1    dotnet/runtime         \\dotnet\\runtime\\dotnet-linker-tests   \n",
       "2     dotnet/roslyn  \\dotnet\\roslyn\\roslyn-integration-corehost   \n",
       "4        dotnet/sdk            \\dotnet\\sdk\\dotnet-sdk-public-ci   \n",
       "6    dotnet/runtime         \\dotnet\\runtime\\dotnet-linker-tests   \n",
       "7  dotnet/installer                 \\dotnet\\installer\\installer   \n",
       "\n",
       "            SourceBranch  PipelineDuration          FinishTime DayOfWeek  \n",
       "1  refs/pull/62655/merge              4180 2021-12-14 22:41:21   Tuesday  \n",
       "2  refs/pull/58241/merge              5530 2021-12-14 22:42:25   Tuesday  \n",
       "4  refs/pull/23068/merge              2880 2021-12-14 22:47:16   Tuesday  \n",
       "6  refs/pull/62814/merge              3492 2021-12-14 22:55:53   Tuesday  \n",
       "7  refs/pull/12766/merge              3868 2021-12-14 22:56:14   Tuesday  "
      ]
     },
     "execution_count": 529,
     "metadata": {},
     "output_type": "execute_result"
    }
   ],
   "source": [
    "dow_df = df.copy()\n",
    "dow_df['DayOfWeek'] = dow_df.FinishTime.dt.day_name()\n",
    "dow_df.head()"
   ]
  },
  {
   "cell_type": "markdown",
   "metadata": {},
   "source": [
    "What does the distribution by day look like for `\\dotnet\\runtime\\runtime`?"
   ]
  },
  {
   "cell_type": "code",
   "execution_count": 530,
   "metadata": {},
   "outputs": [
    {
     "data": {
      "text/plain": [
       "array([[<AxesSubplot:title={'center':'Friday'}>,\n",
       "        <AxesSubplot:title={'center':'Monday'}>,\n",
       "        <AxesSubplot:title={'center':'Saturday'}>],\n",
       "       [<AxesSubplot:title={'center':'Sunday'}>,\n",
       "        <AxesSubplot:title={'center':'Thursday'}>,\n",
       "        <AxesSubplot:title={'center':'Tuesday'}>],\n",
       "       [<AxesSubplot:title={'center':'Wednesday'}>, <AxesSubplot:>,\n",
       "        <AxesSubplot:>]], dtype=object)"
      ]
     },
     "execution_count": 530,
     "metadata": {},
     "output_type": "execute_result"
    },
    {
     "data": {
      "image/png": "[encoded data removed]",
      "text/plain": [
       "<Figure size 864x720 with 9 Axes>"
      ]
     },
     "metadata": {
      "needs_background": "light"
     },
     "output_type": "display_data"
    }
   ],
   "source": [
    "runtime_dow_df = dow_df[dow_df.Definition == \"\\\\dotnet\\\\runtime\\\\runtime\"]\n",
    "runtime_dow_df.PipelineDuration.hist(by=runtime_dow_df.DayOfWeek, bins=100,figsize=(12,10), color='#68217a')"
   ]
  },
  {
   "cell_type": "markdown",
   "metadata": {},
   "source": [
    "It's hard to tell by the graph, but it *looks* like the distributions don't change by the day. Lets do a z-test on all the definitions."
   ]
  },
  {
   "cell_type": "code",
   "execution_count": 531,
   "metadata": {},
   "outputs": [
    {
     "name": "stdout",
     "output_type": "stream",
     "text": [
      "            \\dotnet\\runtime\\dotnet-linker-tests\t    Monday\t0.033 (-2.13)\n",
      "            \\dotnet\\runtime\\dotnet-linker-tests\t   Tuesday\t0.005 (-2.80)\n",
      "            \\dotnet\\runtime\\dotnet-linker-tests\t Wednesday\t0.023 (-2.27)\n",
      "            \\dotnet\\runtime\\dotnet-linker-tests\t  Saturday\t0.000 ( 5.80)\n",
      "            \\dotnet\\runtime\\dotnet-linker-tests\t    Sunday\t0.000 ( 7.78)\n",
      "     \\dotnet\\roslyn\\roslyn-integration-corehost\t    Monday\t0.025 ( 2.24)\n",
      "     \\dotnet\\roslyn\\roslyn-integration-corehost\t Wednesday\t0.017 (-2.38)\n",
      "               \\dotnet\\sdk\\dotnet-sdk-public-ci\t    Sunday\t0.045 (-2.01)\n",
      "          \\dotnet\\runtime\\runtime-dev-innerloop\t   Tuesday\t0.044 (-2.01)\n",
      "          \\dotnet\\runtime\\runtime-dev-innerloop\t Wednesday\t0.000 (-3.77)\n",
      "          \\dotnet\\runtime\\runtime-dev-innerloop\t  Thursday\t0.037 (-2.09)\n",
      "          \\dotnet\\runtime\\runtime-dev-innerloop\t  Saturday\t0.000 ( 5.39)\n",
      "          \\dotnet\\runtime\\runtime-dev-innerloop\t    Sunday\t0.000 ( 9.59)\n",
      "                \\dotnet\\runtime\\runtime-staging\t    Sunday\t0.000 ( 5.70)\n",
      "                        \\dotnet\\runtime\\runtime\t  Thursday\t0.043 ( 2.02)\n",
      "           \\dotnet\\roslyn\\roslyn-integration-CI\t    Monday\t0.002 ( 3.16)\n",
      "           \\dotnet\\roslyn\\roslyn-integration-CI\t Wednesday\t0.009 (-2.60)\n",
      "                       \\dotnet\\roslyn\\roslyn-CI\t  Saturday\t0.008 ( 2.64)\n",
      "               \\dotnet\\aspnetcore\\aspnetcore-ci\t  Saturday\t0.040 (-2.06)\n",
      "                       \\dotnet\\arcade\\arcade-ci\t  Saturday\t0.013 ( 2.49)\n",
      "             \\dotnet\\performance\\performance-ci\t  Saturday\t0.036 (-2.10)\n",
      "   \\dotnet\\aspnetcore\\aspnetcore-components-e2e\t    Sunday\t0.034 (-2.12)\n",
      "\\dotnet\\runtime\\runtime-coreclr superpmi-replay\t Wednesday\t0.049 ( 1.97)\n",
      "\\dotnet\\runtime\\runtime-coreclr superpmi-replay\t  Thursday\t0.014 ( 2.46)\n",
      "\\dotnet\\runtime\\runtime-coreclr superpmi-replay\t  Saturday\t0.047 (-1.99)\n",
      "Percent Significant: 18.8%\n"
     ]
    }
   ],
   "source": [
    "from statsmodels.stats.weightstats import ztest\n",
    "\n",
    "# the p-value at which we can reject the null hypothesis that the distribution of the pipeline duration is the same for all days of the week.\n",
    "P_CRIT = 0.05\n",
    "\n",
    "def compute_ztest(df, definition, day_of_week):\n",
    "    population = df[df.Definition == definition]\n",
    "    sample = population[population.DayOfWeek == day_of_week]\n",
    "\n",
    "    return ztest(population.PipelineDuration, sample.PipelineDuration)\n",
    "\n",
    "DAYS_OF_WEEK = ['Monday', 'Tuesday', 'Wednesday', 'Thursday', 'Friday', 'Saturday', 'Sunday']\n",
    "num_significant = 0\n",
    "\n",
    "for pipeline in dow_df.Definition.unique():\n",
    "    for day in DAYS_OF_WEEK:\n",
    "        z, p = compute_ztest(dow_df, pipeline, day)\n",
    "        if p < P_CRIT:\n",
    "            num_significant += 1\n",
    "            print(f\"{pipeline:>47}\\t{day:>10}\\t{p:.3f} ({z:5.2f})\")\n",
    "\n",
    "print(f\"Percent Significant: {num_significant / (len(dow_df.Definition.unique()) * len(DAYS_OF_WEEK)) * 100:.1f}%\")"
   ]
  },
  {
   "cell_type": "markdown",
   "metadata": {},
   "source": [
    "Only $18.8\\%$ of the pipeline durations by day are significant. While its nice to know that we aren't wrong only showing a model over every day, lets see if a per-day model can tighten the 95% confidence interval."
   ]
  },
  {
   "cell_type": "code",
   "execution_count": 532,
   "metadata": {},
   "outputs": [],
   "source": [
    "import warnings\n",
    "warnings.filterwarnings(\"ignore\")"
   ]
  },
  {
   "cell_type": "code",
   "execution_count": 533,
   "metadata": {},
   "outputs": [],
   "source": [
    "def build_model(df):\n",
    "    dist = distfit()\n",
    "    dist.fit_transform(df.PipelineDuration.to_numpy(), verbose=1)\n",
    "    return dist.model['model']\n",
    "\n",
    "pop_ranges = [build_model(dow_df[dow_df.Definition == x]).interval(0.95) for x in dow_df.Definition.unique()]\n",
    "day_ranges = [build_model(dow_df[(dow_df.Definition == d) & (dow_df.DayOfWeek == day)]).interval(0.95) for d in dow_df.Definition.unique() for day in DAYS_OF_WEEK]"
   ]
  },
  {
   "cell_type": "markdown",
   "metadata": {},
   "source": [
    "We'll collapse the intervals into ranges and then display some statistics on them, starting with the regular ranges, then the specific day of week ranges, in seconds."
   ]
  },
  {
   "cell_type": "code",
   "execution_count": 534,
   "metadata": {},
   "outputs": [
    {
     "data": {
      "text/plain": [
       "count         19.000000\n",
       "mean       61102.592550\n",
       "std       251501.348274\n",
       "min          561.584708\n",
       "25%         1771.911977\n",
       "50%         2556.875745\n",
       "75%         4071.246571\n",
       "max      1099595.126092\n",
       "dtype: object"
      ]
     },
     "execution_count": 534,
     "metadata": {},
     "output_type": "execute_result"
    }
   ],
   "source": [
    "pop_r_s = pd.Series([x2 - x1 for x1, x2 in pop_ranges])\n",
    "pop_r_s.describe().apply(lambda x: format(x, 'f'))"
   ]
  },
  {
   "cell_type": "code",
   "execution_count": 535,
   "metadata": {},
   "outputs": [
    {
     "data": {
      "text/plain": [
       "count        133.000000\n",
       "mean       94596.858154\n",
       "std       412440.230520\n",
       "min            0.020561\n",
       "25%         1746.790754\n",
       "50%         2511.670132\n",
       "75%         4151.841663\n",
       "max      3185841.879326\n",
       "dtype: object"
      ]
     },
     "execution_count": 535,
     "metadata": {},
     "output_type": "execute_result"
    }
   ],
   "source": [
    "day_r_s = pd.Series([x2 - x1 for x1, x2 in day_ranges])\n",
    "day_r_s.describe().apply(lambda x: format(x, 'f'))"
   ]
  },
  {
   "cell_type": "markdown",
   "metadata": {},
   "source": [
    "#### Analysis\n",
    "\n",
    "It is not better to create day ranges for specific pipelines. Using the historical data at hand is fine. The median range decreased from 2557 seconds to 2511 seconds, for a $1.8\\%$ decrease."
   ]
  },
  {
   "cell_type": "markdown",
   "metadata": {},
   "source": [
    "### **Question**: Does this model accurately predict future pipeline durations?\n",
    "\n",
    "Our previous analysis cheated by having all of the available data at hand. Of course our model would be accurate with all the data at hand. How does this model perform with a small subset of data that then eventually grows and retrains over time?\n",
    "\n",
    "We're looking for a time series split, where we have an initial training set of data, then test our model by making predictions on future data we haven't trained on. After testing, we add that test data to our training data, retrain the model, and make predictions again on data we have not seen and evaluate our performance. This process repeats, as this diagram shows:\n",
    "\n",
    "![](https://scikit-learn.org/stable/_images/sphx_glr_plot_cv_indices_013.png)"
   ]
  },
  {
   "cell_type": "markdown",
   "metadata": {},
   "source": [
    "Lets update our model every 7 days."
   ]
  },
  {
   "cell_type": "code",
   "execution_count": 536,
   "metadata": {},
   "outputs": [],
   "source": [
    "RETRAIN_EVERY = timedelta(days=7)"
   ]
  },
  {
   "cell_type": "code",
   "execution_count": 537,
   "metadata": {},
   "outputs": [
    {
     "data": {
      "text/plain": [
       "29"
      ]
     },
     "execution_count": 537,
     "metadata": {},
     "output_type": "execute_result"
    }
   ],
   "source": [
    "# find the number of splits such that each split is roughly RETRAIN_EVERY long\n",
    "num_splits = math.ceil((df.FinishTime.max() - df.FinishTime.min()) / RETRAIN_EVERY)\n",
    "num_splits"
   ]
  },
  {
   "cell_type": "code",
   "execution_count": 538,
   "metadata": {},
   "outputs": [],
   "source": [
    "def train_models(train_df):\n",
    "    models = {}\n",
    "    for definition in train_df.Definition.unique():\n",
    "        dist = distfit(todf=False)\n",
    "        dist.fit_transform(train_df[train_df.Definition == definition].PipelineDuration.to_numpy(), verbose=1)\n",
    "\n",
    "        models[definition] = dist.model['model'].interval(0.95)\n",
    "        \n",
    "    return models"
   ]
  },
  {
   "cell_type": "code",
   "execution_count": 539,
   "metadata": {},
   "outputs": [],
   "source": [
    "def test_models(test_df, models):\n",
    "    # filter the test_df to only include rows with a definition in the models dict\n",
    "    test_df = test_df[test_df.Definition.isin(models.keys())]\n",
    "    results = test_df.apply(lambda x: x.PipelineDuration >= models[x.Definition][0] and x.PipelineDuration <= models[x.Definition][1], axis=1).to_numpy()\n",
    "    return results"
   ]
  },
  {
   "cell_type": "markdown",
   "metadata": {},
   "source": [
    "Now, we'll iterate and train our data. Our back-testing works by returning the first $k$ folds as train set and then $(k+1)$ th fold as a test set (where $k=29$ in this case). This is handled for us by the [Time Series Split](https://scikit-learn.org/stable/modules/cross_validation.html#time-series-split) from scikit-learn."
   ]
  },
  {
   "cell_type": "code",
   "execution_count": 540,
   "metadata": {},
   "outputs": [
    {
     "data": {
      "application/vnd.jupyter.widget-view+json": {
       "model_id": "1ec8e420526e46828930c6adc000b482",
       "version_major": 2,
       "version_minor": 0
      },
      "text/plain": [
       "  0%|          | 0/29 [00:00<?, ?it/s]"
      ]
     },
     "metadata": {},
     "output_type": "display_data"
    }
   ],
   "source": [
    "from sklearn.model_selection import TimeSeriesSplit\n",
    "\n",
    "model_results = pd.DataFrame(columns=['Time', 'Accuracy'])\n",
    "\n",
    "tscv = TimeSeriesSplit(n_splits=num_splits)\n",
    "\n",
    "for train_index, test_index in tqdm(tscv.split(df), total=num_splits):\n",
    "    train_df = df.iloc[train_index]\n",
    "    test_df = df.iloc[test_index]\n",
    "\n",
    "    models = train_models(train_df)\n",
    "    results = test_models(test_df, models)\n",
    "\n",
    "    accuracy = results.mean()\n",
    "\n",
    "    # add to model_results\n",
    "    model_results.loc[len(model_results)] = [train_df.FinishTime.max(), accuracy]\n"
   ]
  },
  {
   "cell_type": "markdown",
   "metadata": {},
   "source": [
    "What does the accuracy over time look like? It should be *slightly* less than 95% as there will be some hiccups in Helix and AzDo."
   ]
  },
  {
   "cell_type": "code",
   "execution_count": 541,
   "metadata": {},
   "outputs": [
    {
     "data": {
      "image/png": "[encoded data removed]",
      "text/plain": [
       "<Figure size 864x720 with 1 Axes>"
      ]
     },
     "metadata": {
      "needs_background": "light"
     },
     "output_type": "display_data"
    }
   ],
   "source": [
    "# plot the accuracy\n",
    "ax = model_results.plot.line(x='Time', y='Accuracy', figsize=(12,10), ylabel='Accuracy', color='#00a1f1',title=\"Back-tested Accuracy vs Time\")\n",
    "\n",
    "# add a red line y=0.95\n",
    "ax.axhline(y=0.95, color='red', linestyle='--')\n",
    "plt.show()"
   ]
  },
  {
   "cell_type": "markdown",
   "metadata": {},
   "source": [
    "Not too bad. We hover around 93% accurate, with a dip slightly below 89% for a week. What are the detailed statistics for the accuracy?"
   ]
  },
  {
   "cell_type": "code",
   "execution_count": 542,
   "metadata": {},
   "outputs": [
    {
     "data": {
      "text/plain": [
       "count    29.000000\n",
       "mean     93.252058\n",
       "std       1.629674\n",
       "min      88.548185\n",
       "25%      92.240300\n",
       "50%      93.366708\n",
       "75%      94.180225\n",
       "max      96.307885\n",
       "Name: Accuracy, dtype: float64"
      ]
     },
     "execution_count": 542,
     "metadata": {},
     "output_type": "execute_result"
    }
   ],
   "source": [
    "model_results.Accuracy.apply(lambda x: x * 100).describe()"
   ]
  },
  {
   "cell_type": "markdown",
   "metadata": {},
   "source": [
    "#### Analysis\n",
    "\n",
    "We have a fairly accuate model. At its worst, over all of our previous data, we were only $88.5\\%$ accurate, with an average of being $93.3\\%$ accurate. This works most of the time, but there still lies the issue of what happens when Helix is completely on the floor? Giving an estimate when something is wrong is not goood."
   ]
  },
  {
   "cell_type": "markdown",
   "metadata": {},
   "source": [
    "### **Question**: Can we use ML to detect anomalies in Helix and not show our customers predictions to increase our accuracy?\n",
    "\n",
    "One of the obvious signs of health in Helix are the work item wait times. We can develop an unsupervised anomaly detection model to determine when Helix is unhealthy, and hide our predictions in this case. To build this model we'll query Kusto for the work item wait time for all queues, and take the 95th percentile."
   ]
  },
  {
   "cell_type": "raw",
   "metadata": {},
   "source": [
    "WorkItems \n",
    "| where Attempt == 1\n",
    "| project QueueName = tolower(QueueName), duration = datetime_diff('minute', Started, Queued), Started\n",
    "| where QueueName !contains \"osx\" and QueueName !contains \"perf\" and QueueName !contains \"arm\" and QueueName !contains \"appcompat\" and QueueName !contains \"tof\"\n",
    "| where QueueName !contains \"buildpool\"\n",
    "| summarize Percentile95 = percentile(duration, 95) by bin(Started, 5m)\n",
    "| order by Started asc  "
   ]
  },
  {
   "cell_type": "markdown",
   "metadata": {},
   "source": [
    "Again, I've done the liberty of uploading this data as a gist for reproducability. Load the data."
   ]
  },
  {
   "cell_type": "code",
   "execution_count": 543,
   "metadata": {},
   "outputs": [
    {
     "data": {
      "text/html": [
       "<div>\n",
       "<style scoped>\n",
       "    .dataframe tbody tr th:only-of-type {\n",
       "        vertical-align: middle;\n",
       "    }\n",
       "\n",
       "    .dataframe tbody tr th {\n",
       "        vertical-align: top;\n",
       "    }\n",
       "\n",
       "    .dataframe thead th {\n",
       "        text-align: right;\n",
       "    }\n",
       "</style>\n",
       "<table border=\"1\" class=\"dataframe\">\n",
       "  <thead>\n",
       "    <tr style=\"text-align: right;\">\n",
       "      <th></th>\n",
       "      <th>Started</th>\n",
       "      <th>Percentile95</th>\n",
       "    </tr>\n",
       "  </thead>\n",
       "  <tbody>\n",
       "    <tr>\n",
       "      <th>0</th>\n",
       "      <td>2022-03-09 21:00:00.0000000</td>\n",
       "      <td>5</td>\n",
       "    </tr>\n",
       "    <tr>\n",
       "      <th>1</th>\n",
       "      <td>2022-03-09 21:05:00.0000000</td>\n",
       "      <td>7</td>\n",
       "    </tr>\n",
       "    <tr>\n",
       "      <th>2</th>\n",
       "      <td>2022-03-09 21:25:00.0000000</td>\n",
       "      <td>27</td>\n",
       "    </tr>\n",
       "    <tr>\n",
       "      <th>3</th>\n",
       "      <td>2022-03-09 21:30:00.0000000</td>\n",
       "      <td>9</td>\n",
       "    </tr>\n",
       "    <tr>\n",
       "      <th>4</th>\n",
       "      <td>2022-03-09 21:35:00.0000000</td>\n",
       "      <td>17</td>\n",
       "    </tr>\n",
       "    <tr>\n",
       "      <th>...</th>\n",
       "      <td>...</td>\n",
       "      <td>...</td>\n",
       "    </tr>\n",
       "    <tr>\n",
       "      <th>34024</th>\n",
       "      <td>2022-07-06 18:15:00.0000000</td>\n",
       "      <td>24</td>\n",
       "    </tr>\n",
       "    <tr>\n",
       "      <th>34025</th>\n",
       "      <td>2022-07-06 18:20:00.0000000</td>\n",
       "      <td>27</td>\n",
       "    </tr>\n",
       "    <tr>\n",
       "      <th>34026</th>\n",
       "      <td>2022-07-06 18:25:00.0000000</td>\n",
       "      <td>28</td>\n",
       "    </tr>\n",
       "    <tr>\n",
       "      <th>34027</th>\n",
       "      <td>2022-07-06 18:30:00.0000000</td>\n",
       "      <td>31</td>\n",
       "    </tr>\n",
       "    <tr>\n",
       "      <th>34028</th>\n",
       "      <td>2022-07-06 18:35:00.0000000</td>\n",
       "      <td>22</td>\n",
       "    </tr>\n",
       "  </tbody>\n",
       "</table>\n",
       "<p>34029 rows × 2 columns</p>\n",
       "</div>"
      ],
      "text/plain": [
       "                           Started  Percentile95\n",
       "0      2022-03-09 21:00:00.0000000             5\n",
       "1      2022-03-09 21:05:00.0000000             7\n",
       "2      2022-03-09 21:25:00.0000000            27\n",
       "3      2022-03-09 21:30:00.0000000             9\n",
       "4      2022-03-09 21:35:00.0000000            17\n",
       "...                            ...           ...\n",
       "34024  2022-07-06 18:15:00.0000000            24\n",
       "34025  2022-07-06 18:20:00.0000000            27\n",
       "34026  2022-07-06 18:25:00.0000000            28\n",
       "34027  2022-07-06 18:30:00.0000000            31\n",
       "34028  2022-07-06 18:35:00.0000000            22\n",
       "\n",
       "[34029 rows x 2 columns]"
      ]
     },
     "execution_count": 543,
     "metadata": {},
     "output_type": "execute_result"
    }
   ],
   "source": [
    "wait_df = pd.read_csv(\"https://gist.githubusercontent.com/melotic/c6cd7339a70553700aef23d5d7b768a1/raw/32009fddb29d869b2ddb4bc9700f22ace39ab4c3/workitem_wait_times.csv\")\n",
    "wait_df"
   ]
  },
  {
   "cell_type": "markdown",
   "metadata": {},
   "source": [
    "Lets also ensure that the `Started` column is a datetime."
   ]
  },
  {
   "cell_type": "code",
   "execution_count": 544,
   "metadata": {},
   "outputs": [
    {
     "data": {
      "text/plain": [
       "Started         object\n",
       "Percentile95     int64\n",
       "dtype: object"
      ]
     },
     "execution_count": 544,
     "metadata": {},
     "output_type": "execute_result"
    }
   ],
   "source": [
    "wait_df.dtypes"
   ]
  },
  {
   "cell_type": "code",
   "execution_count": 545,
   "metadata": {},
   "outputs": [
    {
     "data": {
      "text/html": [
       "<div>\n",
       "<style scoped>\n",
       "    .dataframe tbody tr th:only-of-type {\n",
       "        vertical-align: middle;\n",
       "    }\n",
       "\n",
       "    .dataframe tbody tr th {\n",
       "        vertical-align: top;\n",
       "    }\n",
       "\n",
       "    .dataframe thead th {\n",
       "        text-align: right;\n",
       "    }\n",
       "</style>\n",
       "<table border=\"1\" class=\"dataframe\">\n",
       "  <thead>\n",
       "    <tr style=\"text-align: right;\">\n",
       "      <th></th>\n",
       "      <th>Started</th>\n",
       "      <th>Percentile95</th>\n",
       "    </tr>\n",
       "  </thead>\n",
       "  <tbody>\n",
       "    <tr>\n",
       "      <th>0</th>\n",
       "      <td>2022-03-09 21:00:00</td>\n",
       "      <td>5</td>\n",
       "    </tr>\n",
       "    <tr>\n",
       "      <th>1</th>\n",
       "      <td>2022-03-09 21:05:00</td>\n",
       "      <td>7</td>\n",
       "    </tr>\n",
       "    <tr>\n",
       "      <th>2</th>\n",
       "      <td>2022-03-09 21:25:00</td>\n",
       "      <td>27</td>\n",
       "    </tr>\n",
       "    <tr>\n",
       "      <th>3</th>\n",
       "      <td>2022-03-09 21:30:00</td>\n",
       "      <td>9</td>\n",
       "    </tr>\n",
       "    <tr>\n",
       "      <th>4</th>\n",
       "      <td>2022-03-09 21:35:00</td>\n",
       "      <td>17</td>\n",
       "    </tr>\n",
       "  </tbody>\n",
       "</table>\n",
       "</div>"
      ],
      "text/plain": [
       "              Started  Percentile95\n",
       "0 2022-03-09 21:00:00             5\n",
       "1 2022-03-09 21:05:00             7\n",
       "2 2022-03-09 21:25:00            27\n",
       "3 2022-03-09 21:30:00             9\n",
       "4 2022-03-09 21:35:00            17"
      ]
     },
     "execution_count": 545,
     "metadata": {},
     "output_type": "execute_result"
    }
   ],
   "source": [
    "wait_df.Started = pd.to_datetime(wait_df.Started)\n",
    "wait_df.head()"
   ]
  },
  {
   "cell_type": "markdown",
   "metadata": {},
   "source": [
    "We only want to detect outliars that are above the normal, not below it. So lets filter our data to remove entries that are less 20 minutes."
   ]
  },
  {
   "cell_type": "code",
   "execution_count": 546,
   "metadata": {},
   "outputs": [],
   "source": [
    "# we dont care about short waits\n",
    "wait_df = wait_df[wait_df.Percentile95 > 20]"
   ]
  },
  {
   "cell_type": "markdown",
   "metadata": {},
   "source": [
    "Lets plot this in a line graph and see what the data looks like over time."
   ]
  },
  {
   "cell_type": "code",
   "execution_count": 547,
   "metadata": {},
   "outputs": [
    {
     "data": {
      "text/plain": [
       "<AxesSubplot:title={'center':'Wait Time vs Time'}, xlabel='Started', ylabel='WaitTime'>"
      ]
     },
     "execution_count": 547,
     "metadata": {},
     "output_type": "execute_result"
    },
    {
     "data": {
      "image/png": "[encoded data removed]",
      "text/plain": [
       "<Figure size 1296x720 with 1 Axes>"
      ]
     },
     "metadata": {
      "needs_background": "light"
     },
     "output_type": "display_data"
    }
   ],
   "source": [
    "wait_df.plot.line(x='Started', y='Percentile95', figsize=(18,10), ylabel='WaitTime', color='#00a1f1',title=\"Wait Time vs Time\")"
   ]
  },
  {
   "cell_type": "markdown",
   "metadata": {},
   "source": [
    "There are some clear anomalies. Lets build an Isolation Forest and see if we can detect them. We'll set our contamation rate, the percentage of our data that are *likely* outliars. This is a hyperparameter that can be tuned."
   ]
  },
  {
   "cell_type": "code",
   "execution_count": 548,
   "metadata": {},
   "outputs": [
    {
     "data": {
      "text/html": [
       "<div>\n",
       "<style scoped>\n",
       "    .dataframe tbody tr th:only-of-type {\n",
       "        vertical-align: middle;\n",
       "    }\n",
       "\n",
       "    .dataframe tbody tr th {\n",
       "        vertical-align: top;\n",
       "    }\n",
       "\n",
       "    .dataframe thead th {\n",
       "        text-align: right;\n",
       "    }\n",
       "</style>\n",
       "<table border=\"1\" class=\"dataframe\">\n",
       "  <thead>\n",
       "    <tr style=\"text-align: right;\">\n",
       "      <th></th>\n",
       "      <th>Started</th>\n",
       "      <th>Percentile95</th>\n",
       "      <th>AnomalyScore</th>\n",
       "    </tr>\n",
       "  </thead>\n",
       "  <tbody>\n",
       "    <tr>\n",
       "      <th>2</th>\n",
       "      <td>2022-03-09 21:25:00</td>\n",
       "      <td>27</td>\n",
       "      <td>1</td>\n",
       "    </tr>\n",
       "    <tr>\n",
       "      <th>5</th>\n",
       "      <td>2022-03-09 21:40:00</td>\n",
       "      <td>44</td>\n",
       "      <td>1</td>\n",
       "    </tr>\n",
       "    <tr>\n",
       "      <th>6</th>\n",
       "      <td>2022-03-09 21:45:00</td>\n",
       "      <td>21</td>\n",
       "      <td>-1</td>\n",
       "    </tr>\n",
       "    <tr>\n",
       "      <th>7</th>\n",
       "      <td>2022-03-09 21:50:00</td>\n",
       "      <td>23</td>\n",
       "      <td>1</td>\n",
       "    </tr>\n",
       "    <tr>\n",
       "      <th>8</th>\n",
       "      <td>2022-03-09 21:55:00</td>\n",
       "      <td>24</td>\n",
       "      <td>1</td>\n",
       "    </tr>\n",
       "    <tr>\n",
       "      <th>...</th>\n",
       "      <td>...</td>\n",
       "      <td>...</td>\n",
       "      <td>...</td>\n",
       "    </tr>\n",
       "    <tr>\n",
       "      <th>34024</th>\n",
       "      <td>2022-07-06 18:15:00</td>\n",
       "      <td>24</td>\n",
       "      <td>1</td>\n",
       "    </tr>\n",
       "    <tr>\n",
       "      <th>34025</th>\n",
       "      <td>2022-07-06 18:20:00</td>\n",
       "      <td>27</td>\n",
       "      <td>1</td>\n",
       "    </tr>\n",
       "    <tr>\n",
       "      <th>34026</th>\n",
       "      <td>2022-07-06 18:25:00</td>\n",
       "      <td>28</td>\n",
       "      <td>1</td>\n",
       "    </tr>\n",
       "    <tr>\n",
       "      <th>34027</th>\n",
       "      <td>2022-07-06 18:30:00</td>\n",
       "      <td>31</td>\n",
       "      <td>1</td>\n",
       "    </tr>\n",
       "    <tr>\n",
       "      <th>34028</th>\n",
       "      <td>2022-07-06 18:35:00</td>\n",
       "      <td>22</td>\n",
       "      <td>1</td>\n",
       "    </tr>\n",
       "  </tbody>\n",
       "</table>\n",
       "<p>29453 rows × 3 columns</p>\n",
       "</div>"
      ],
      "text/plain": [
       "                  Started  Percentile95  AnomalyScore\n",
       "2     2022-03-09 21:25:00            27             1\n",
       "5     2022-03-09 21:40:00            44             1\n",
       "6     2022-03-09 21:45:00            21            -1\n",
       "7     2022-03-09 21:50:00            23             1\n",
       "8     2022-03-09 21:55:00            24             1\n",
       "...                   ...           ...           ...\n",
       "34024 2022-07-06 18:15:00            24             1\n",
       "34025 2022-07-06 18:20:00            27             1\n",
       "34026 2022-07-06 18:25:00            28             1\n",
       "34027 2022-07-06 18:30:00            31             1\n",
       "34028 2022-07-06 18:35:00            22             1\n",
       "\n",
       "[29453 rows x 3 columns]"
      ]
     },
     "execution_count": 548,
     "metadata": {},
     "output_type": "execute_result"
    }
   ],
   "source": [
    "from sklearn.ensemble import IsolationForest\n",
    "\n",
    "clf = IsolationForest(contamination=0.15).fit(wait_df.Percentile95.to_numpy().reshape(-1, 1))\n",
    "\n",
    "# add scores to the dataframe\n",
    "wait_df['AnomalyScore'] = clf.predict(wait_df.Percentile95.to_numpy().reshape(-1, 1))\n",
    "wait_df"
   ]
  },
  {
   "cell_type": "markdown",
   "metadata": {},
   "source": [
    "We should ensure that the data marked anomalous is actually looking anomalous."
   ]
  },
  {
   "cell_type": "code",
   "execution_count": 549,
   "metadata": {},
   "outputs": [
    {
     "data": {
      "text/html": [
       "<div>\n",
       "<style scoped>\n",
       "    .dataframe tbody tr th:only-of-type {\n",
       "        vertical-align: middle;\n",
       "    }\n",
       "\n",
       "    .dataframe tbody tr th {\n",
       "        vertical-align: top;\n",
       "    }\n",
       "\n",
       "    .dataframe thead th {\n",
       "        text-align: right;\n",
       "    }\n",
       "</style>\n",
       "<table border=\"1\" class=\"dataframe\">\n",
       "  <thead>\n",
       "    <tr style=\"text-align: right;\">\n",
       "      <th></th>\n",
       "      <th>Percentile95</th>\n",
       "      <th>AnomalyScore</th>\n",
       "    </tr>\n",
       "  </thead>\n",
       "  <tbody>\n",
       "    <tr>\n",
       "      <th>count</th>\n",
       "      <td>4333.000000</td>\n",
       "      <td>4333.0</td>\n",
       "    </tr>\n",
       "    <tr>\n",
       "      <th>mean</th>\n",
       "      <td>101.758135</td>\n",
       "      <td>-1.0</td>\n",
       "    </tr>\n",
       "    <tr>\n",
       "      <th>std</th>\n",
       "      <td>360.166713</td>\n",
       "      <td>0.0</td>\n",
       "    </tr>\n",
       "    <tr>\n",
       "      <th>min</th>\n",
       "      <td>21.000000</td>\n",
       "      <td>-1.0</td>\n",
       "    </tr>\n",
       "    <tr>\n",
       "      <th>25%</th>\n",
       "      <td>21.000000</td>\n",
       "      <td>-1.0</td>\n",
       "    </tr>\n",
       "    <tr>\n",
       "      <th>50%</th>\n",
       "      <td>70.000000</td>\n",
       "      <td>-1.0</td>\n",
       "    </tr>\n",
       "    <tr>\n",
       "      <th>75%</th>\n",
       "      <td>100.000000</td>\n",
       "      <td>-1.0</td>\n",
       "    </tr>\n",
       "    <tr>\n",
       "      <th>max</th>\n",
       "      <td>7454.000000</td>\n",
       "      <td>-1.0</td>\n",
       "    </tr>\n",
       "  </tbody>\n",
       "</table>\n",
       "</div>"
      ],
      "text/plain": [
       "       Percentile95  AnomalyScore\n",
       "count   4333.000000        4333.0\n",
       "mean     101.758135          -1.0\n",
       "std      360.166713           0.0\n",
       "min       21.000000          -1.0\n",
       "25%       21.000000          -1.0\n",
       "50%       70.000000          -1.0\n",
       "75%      100.000000          -1.0\n",
       "max     7454.000000          -1.0"
      ]
     },
     "execution_count": 549,
     "metadata": {},
     "output_type": "execute_result"
    }
   ],
   "source": [
    "wait_df[wait_df.AnomalyScore == -1].describe()"
   ]
  },
  {
   "cell_type": "markdown",
   "metadata": {},
   "source": [
    "This looks good. We also should include an \"Anomaly\" rate. We don't care that one work item's wait time is high, we care about a **pattern** of anomalies. We'll compute this by averaging the last 30min anomaly scores, to generate a number between $[-1,1]$, with $-1$ meaning anomalous."
   ]
  },
  {
   "cell_type": "code",
   "execution_count": 550,
   "metadata": {},
   "outputs": [
    {
     "data": {
      "text/html": [
       "<div>\n",
       "<style scoped>\n",
       "    .dataframe tbody tr th:only-of-type {\n",
       "        vertical-align: middle;\n",
       "    }\n",
       "\n",
       "    .dataframe tbody tr th {\n",
       "        vertical-align: top;\n",
       "    }\n",
       "\n",
       "    .dataframe thead th {\n",
       "        text-align: right;\n",
       "    }\n",
       "</style>\n",
       "<table border=\"1\" class=\"dataframe\">\n",
       "  <thead>\n",
       "    <tr style=\"text-align: right;\">\n",
       "      <th></th>\n",
       "      <th>Started</th>\n",
       "      <th>Percentile95</th>\n",
       "      <th>AnomalyScore</th>\n",
       "      <th>AnomalyRate</th>\n",
       "    </tr>\n",
       "  </thead>\n",
       "  <tbody>\n",
       "    <tr>\n",
       "      <th>9</th>\n",
       "      <td>2022-03-09 22:00:00</td>\n",
       "      <td>26</td>\n",
       "      <td>1</td>\n",
       "      <td>0.666667</td>\n",
       "    </tr>\n",
       "    <tr>\n",
       "      <th>10</th>\n",
       "      <td>2022-03-09 22:05:00</td>\n",
       "      <td>26</td>\n",
       "      <td>1</td>\n",
       "      <td>0.666667</td>\n",
       "    </tr>\n",
       "    <tr>\n",
       "      <th>11</th>\n",
       "      <td>2022-03-09 22:10:00</td>\n",
       "      <td>21</td>\n",
       "      <td>-1</td>\n",
       "      <td>0.333333</td>\n",
       "    </tr>\n",
       "    <tr>\n",
       "      <th>12</th>\n",
       "      <td>2022-03-09 22:15:00</td>\n",
       "      <td>34</td>\n",
       "      <td>1</td>\n",
       "      <td>0.666667</td>\n",
       "    </tr>\n",
       "    <tr>\n",
       "      <th>13</th>\n",
       "      <td>2022-03-09 22:20:00</td>\n",
       "      <td>34</td>\n",
       "      <td>1</td>\n",
       "      <td>0.666667</td>\n",
       "    </tr>\n",
       "    <tr>\n",
       "      <th>...</th>\n",
       "      <td>...</td>\n",
       "      <td>...</td>\n",
       "      <td>...</td>\n",
       "      <td>...</td>\n",
       "    </tr>\n",
       "    <tr>\n",
       "      <th>34024</th>\n",
       "      <td>2022-07-06 18:15:00</td>\n",
       "      <td>24</td>\n",
       "      <td>1</td>\n",
       "      <td>1.000000</td>\n",
       "    </tr>\n",
       "    <tr>\n",
       "      <th>34025</th>\n",
       "      <td>2022-07-06 18:20:00</td>\n",
       "      <td>27</td>\n",
       "      <td>1</td>\n",
       "      <td>1.000000</td>\n",
       "    </tr>\n",
       "    <tr>\n",
       "      <th>34026</th>\n",
       "      <td>2022-07-06 18:25:00</td>\n",
       "      <td>28</td>\n",
       "      <td>1</td>\n",
       "      <td>1.000000</td>\n",
       "    </tr>\n",
       "    <tr>\n",
       "      <th>34027</th>\n",
       "      <td>2022-07-06 18:30:00</td>\n",
       "      <td>31</td>\n",
       "      <td>1</td>\n",
       "      <td>1.000000</td>\n",
       "    </tr>\n",
       "    <tr>\n",
       "      <th>34028</th>\n",
       "      <td>2022-07-06 18:35:00</td>\n",
       "      <td>22</td>\n",
       "      <td>1</td>\n",
       "      <td>1.000000</td>\n",
       "    </tr>\n",
       "  </tbody>\n",
       "</table>\n",
       "<p>29448 rows × 4 columns</p>\n",
       "</div>"
      ],
      "text/plain": [
       "                  Started  Percentile95  AnomalyScore  AnomalyRate\n",
       "9     2022-03-09 22:00:00            26             1     0.666667\n",
       "10    2022-03-09 22:05:00            26             1     0.666667\n",
       "11    2022-03-09 22:10:00            21            -1     0.333333\n",
       "12    2022-03-09 22:15:00            34             1     0.666667\n",
       "13    2022-03-09 22:20:00            34             1     0.666667\n",
       "...                   ...           ...           ...          ...\n",
       "34024 2022-07-06 18:15:00            24             1     1.000000\n",
       "34025 2022-07-06 18:20:00            27             1     1.000000\n",
       "34026 2022-07-06 18:25:00            28             1     1.000000\n",
       "34027 2022-07-06 18:30:00            31             1     1.000000\n",
       "34028 2022-07-06 18:35:00            22             1     1.000000\n",
       "\n",
       "[29448 rows x 4 columns]"
      ]
     },
     "execution_count": 550,
     "metadata": {},
     "output_type": "execute_result"
    }
   ],
   "source": [
    "# add an 'AnomalyRate' column to the dataframe over the last 30 min\n",
    "wait_df['AnomalyRate'] = wait_df.AnomalyScore.rolling(30//5).mean()\n",
    "wait_df.dropna(inplace=True)\n",
    "wait_df"
   ]
  },
  {
   "cell_type": "code",
   "execution_count": 551,
   "metadata": {},
   "outputs": [
    {
     "data": {
      "image/png": "[encoded data removed]",
      "text/plain": [
       "<Figure size 1584x720 with 1 Axes>"
      ]
     },
     "metadata": {
      "needs_background": "light"
     },
     "output_type": "display_data"
    }
   ],
   "source": [
    "# plot only a week of data\n",
    "p_wait_df = wait_df[(wait_df.Started > '2022-07-03') ]\n",
    "\n",
    "ax = p_wait_df.plot.line(x='Started', y='Percentile95', ylabel='Wait Time (min)', color='#00a1f1',title=\"Wait Time vs Time\", lw=0.5, figsize=(22,10))\n",
    "\n",
    "# plot red x's for anomalies\n",
    "anoms = p_wait_df[p_wait_df.AnomalyScore == -1]\n",
    "ax.scatter(anoms.Started, anoms.Percentile95, color='red', marker='x')\n",
    "\n",
    "# shade when  the anomalous rate is less than 0\n",
    "anom_periods = p_wait_df[p_wait_df.AnomalyRate < 0]\n",
    "\n",
    "# clever trick to groupby sequential indexes when the anomaly rate is consistently negative\n",
    "list_of_seqs = [d for _, d in anom_periods.groupby(anom_periods.index - np.arange(len(anom_periods)))]\n",
    "\n",
    "for seq in list_of_seqs:\n",
    "    ax.axvspan(seq.Started.min(), seq.Started.max(), color='red', alpha=0.3)\n",
    "\n",
    "ax.legend(['Wait Time', 'Anomalies', 'Anomaly Period'])\n",
    "plt.show()"
   ]
  },
  {
   "cell_type": "markdown",
   "metadata": {},
   "source": [
    "This does a decent job filtering out long periods of anamlous wait times, that we should maybe see if can help improve our accuracy. The red shaded area is where we would hide our predictions. Let's retest our model again, ignoring periods of anomaly. First, we'll have to add a `Started` column to our original data, as our kusto query didn't capture this."
   ]
  },
  {
   "cell_type": "code",
   "execution_count": 552,
   "metadata": {},
   "outputs": [
    {
     "data": {
      "text/html": [
       "<div>\n",
       "<style scoped>\n",
       "    .dataframe tbody tr th:only-of-type {\n",
       "        vertical-align: middle;\n",
       "    }\n",
       "\n",
       "    .dataframe tbody tr th {\n",
       "        vertical-align: top;\n",
       "    }\n",
       "\n",
       "    .dataframe thead th {\n",
       "        text-align: right;\n",
       "    }\n",
       "</style>\n",
       "<table border=\"1\" class=\"dataframe\">\n",
       "  <thead>\n",
       "    <tr style=\"text-align: right;\">\n",
       "      <th></th>\n",
       "      <th>Repository</th>\n",
       "      <th>Definition</th>\n",
       "      <th>SourceBranch</th>\n",
       "      <th>PipelineDuration</th>\n",
       "      <th>FinishTime</th>\n",
       "      <th>Started</th>\n",
       "    </tr>\n",
       "  </thead>\n",
       "  <tbody>\n",
       "    <tr>\n",
       "      <th>1</th>\n",
       "      <td>dotnet/runtime</td>\n",
       "      <td>\\dotnet\\runtime\\dotnet-linker-tests</td>\n",
       "      <td>refs/pull/62655/merge</td>\n",
       "      <td>4180</td>\n",
       "      <td>2021-12-14 22:41:21</td>\n",
       "      <td>2021-12-14 21:31:41</td>\n",
       "    </tr>\n",
       "    <tr>\n",
       "      <th>2</th>\n",
       "      <td>dotnet/roslyn</td>\n",
       "      <td>\\dotnet\\roslyn\\roslyn-integration-corehost</td>\n",
       "      <td>refs/pull/58241/merge</td>\n",
       "      <td>5530</td>\n",
       "      <td>2021-12-14 22:42:25</td>\n",
       "      <td>2021-12-14 21:10:15</td>\n",
       "    </tr>\n",
       "    <tr>\n",
       "      <th>4</th>\n",
       "      <td>dotnet/sdk</td>\n",
       "      <td>\\dotnet\\sdk\\dotnet-sdk-public-ci</td>\n",
       "      <td>refs/pull/23068/merge</td>\n",
       "      <td>2880</td>\n",
       "      <td>2021-12-14 22:47:16</td>\n",
       "      <td>2021-12-14 21:59:16</td>\n",
       "    </tr>\n",
       "    <tr>\n",
       "      <th>6</th>\n",
       "      <td>dotnet/runtime</td>\n",
       "      <td>\\dotnet\\runtime\\dotnet-linker-tests</td>\n",
       "      <td>refs/pull/62814/merge</td>\n",
       "      <td>3492</td>\n",
       "      <td>2021-12-14 22:55:53</td>\n",
       "      <td>2021-12-14 21:57:41</td>\n",
       "    </tr>\n",
       "    <tr>\n",
       "      <th>7</th>\n",
       "      <td>dotnet/installer</td>\n",
       "      <td>\\dotnet\\installer\\installer</td>\n",
       "      <td>refs/pull/12766/merge</td>\n",
       "      <td>3868</td>\n",
       "      <td>2021-12-14 22:56:14</td>\n",
       "      <td>2021-12-14 21:51:46</td>\n",
       "    </tr>\n",
       "  </tbody>\n",
       "</table>\n",
       "</div>"
      ],
      "text/plain": [
       "         Repository                                  Definition  \\\n",
       "1    dotnet/runtime         \\dotnet\\runtime\\dotnet-linker-tests   \n",
       "2     dotnet/roslyn  \\dotnet\\roslyn\\roslyn-integration-corehost   \n",
       "4        dotnet/sdk            \\dotnet\\sdk\\dotnet-sdk-public-ci   \n",
       "6    dotnet/runtime         \\dotnet\\runtime\\dotnet-linker-tests   \n",
       "7  dotnet/installer                 \\dotnet\\installer\\installer   \n",
       "\n",
       "            SourceBranch  PipelineDuration          FinishTime  \\\n",
       "1  refs/pull/62655/merge              4180 2021-12-14 22:41:21   \n",
       "2  refs/pull/58241/merge              5530 2021-12-14 22:42:25   \n",
       "4  refs/pull/23068/merge              2880 2021-12-14 22:47:16   \n",
       "6  refs/pull/62814/merge              3492 2021-12-14 22:55:53   \n",
       "7  refs/pull/12766/merge              3868 2021-12-14 22:56:14   \n",
       "\n",
       "              Started  \n",
       "1 2021-12-14 21:31:41  \n",
       "2 2021-12-14 21:10:15  \n",
       "4 2021-12-14 21:59:16  \n",
       "6 2021-12-14 21:57:41  \n",
       "7 2021-12-14 21:51:46  "
      ]
     },
     "execution_count": 552,
     "metadata": {},
     "output_type": "execute_result"
    }
   ],
   "source": [
    "df['Started'] = df.FinishTime - df.PipelineDuration.apply(lambda x: timedelta(seconds=x))\n",
    "df.head()"
   ]
  },
  {
   "cell_type": "code",
   "execution_count": 553,
   "metadata": {},
   "outputs": [
    {
     "data": {
      "text/html": [
       "<div>\n",
       "<style scoped>\n",
       "    .dataframe tbody tr th:only-of-type {\n",
       "        vertical-align: middle;\n",
       "    }\n",
       "\n",
       "    .dataframe tbody tr th {\n",
       "        vertical-align: top;\n",
       "    }\n",
       "\n",
       "    .dataframe thead th {\n",
       "        text-align: right;\n",
       "    }\n",
       "</style>\n",
       "<table border=\"1\" class=\"dataframe\">\n",
       "  <thead>\n",
       "    <tr style=\"text-align: right;\">\n",
       "      <th></th>\n",
       "      <th>Started</th>\n",
       "      <th>Percentile95</th>\n",
       "      <th>AnomalyScore</th>\n",
       "      <th>AnomalyRate</th>\n",
       "    </tr>\n",
       "  </thead>\n",
       "  <tbody>\n",
       "    <tr>\n",
       "      <th>483</th>\n",
       "      <td>2022-03-11 13:45:00</td>\n",
       "      <td>91</td>\n",
       "      <td>-1</td>\n",
       "      <td>-0.333333</td>\n",
       "    </tr>\n",
       "    <tr>\n",
       "      <th>484</th>\n",
       "      <td>2022-03-11 13:50:00</td>\n",
       "      <td>93</td>\n",
       "      <td>-1</td>\n",
       "      <td>-0.666667</td>\n",
       "    </tr>\n",
       "    <tr>\n",
       "      <th>485</th>\n",
       "      <td>2022-03-11 13:55:00</td>\n",
       "      <td>55</td>\n",
       "      <td>1</td>\n",
       "      <td>-0.666667</td>\n",
       "    </tr>\n",
       "    <tr>\n",
       "      <th>486</th>\n",
       "      <td>2022-03-11 14:00:00</td>\n",
       "      <td>57</td>\n",
       "      <td>1</td>\n",
       "      <td>-0.333333</td>\n",
       "    </tr>\n",
       "    <tr>\n",
       "      <th>487</th>\n",
       "      <td>2022-03-11 14:05:00</td>\n",
       "      <td>63</td>\n",
       "      <td>-1</td>\n",
       "      <td>-0.333333</td>\n",
       "    </tr>\n",
       "  </tbody>\n",
       "</table>\n",
       "</div>"
      ],
      "text/plain": [
       "                Started  Percentile95  AnomalyScore  AnomalyRate\n",
       "483 2022-03-11 13:45:00            91            -1    -0.333333\n",
       "484 2022-03-11 13:50:00            93            -1    -0.666667\n",
       "485 2022-03-11 13:55:00            55             1    -0.666667\n",
       "486 2022-03-11 14:00:00            57             1    -0.333333\n",
       "487 2022-03-11 14:05:00            63            -1    -0.333333"
      ]
     },
     "execution_count": 553,
     "metadata": {},
     "output_type": "execute_result"
    }
   ],
   "source": [
    "# remove all data whose anomly rate is >= 0\n",
    "anomaly_df = wait_df[wait_df.AnomalyRate < 0]\n",
    "anomaly_df.head()"
   ]
  },
  {
   "cell_type": "code",
   "execution_count": 554,
   "metadata": {},
   "outputs": [
    {
     "data": {
      "text/plain": [
       "Timestamp('2022-03-09 22:00:00')"
      ]
     },
     "execution_count": 554,
     "metadata": {},
     "output_type": "execute_result"
    }
   ],
   "source": [
    "wait_df.Started.min()"
   ]
  },
  {
   "cell_type": "code",
   "execution_count": 555,
   "metadata": {},
   "outputs": [],
   "source": [
    "def test_models(test_df, models, anomaly_df):\n",
    "    # filter the test_df to only include rows with a definition in the models dict\n",
    "    test_df = test_df[test_df.Definition.isin(models.keys())]\n",
    "\n",
    "    # we only want test_df data where the started time, floored to the nearest 5 minutes, is not in the anomaly_df\n",
    "    test_df = test_df[~test_df.Started.apply(lambda x: x.floor(freq='5min')).isin(anomaly_df.Started)]\n",
    "\n",
    "    results = test_df.apply(lambda x: x.PipelineDuration >= models[x.Definition][0] and x.PipelineDuration <= models[x.Definition][1], axis=1).to_numpy()\n",
    "    return results"
   ]
  },
  {
   "cell_type": "code",
   "execution_count": 556,
   "metadata": {},
   "outputs": [
    {
     "data": {
      "application/vnd.jupyter.widget-view+json": {
       "model_id": "bce0cb0f5bd744609515d54a7acbfaab",
       "version_major": 2,
       "version_minor": 0
      },
      "text/plain": [
       "  0%|          | 0/29 [00:00<?, ?it/s]"
      ]
     },
     "metadata": {},
     "output_type": "display_data"
    }
   ],
   "source": [
    "model_results_a = pd.DataFrame(columns=['Time', 'Accuracy'])\n",
    "tscv = TimeSeriesSplit(n_splits=num_splits)\n",
    "\n",
    "anomaly_data_start = wait_df.Started.min()\n",
    "\n",
    "for train_index, test_index in tqdm(tscv.split(df), total=num_splits):\n",
    "    train_df = df.iloc[train_index]\n",
    "    test_df = df.iloc[test_index]\n",
    "\n",
    "    # don't process data before the anomaly data start\n",
    "    if test_df.Started.min() < anomaly_data_start:\n",
    "        continue\n",
    "\n",
    "    models = train_models(train_df)\n",
    "    results = test_models(test_df, models, anomaly_df)\n",
    "\n",
    "    accuracy = results.mean()\n",
    "\n",
    "    # add to model_results_a\n",
    "    model_results_a.loc[len(model_results_a)] = [train_df.FinishTime.max(), accuracy]\n"
   ]
  },
  {
   "cell_type": "code",
   "execution_count": 557,
   "metadata": {},
   "outputs": [
    {
     "data": {
      "text/html": [
       "<div>\n",
       "<style scoped>\n",
       "    .dataframe tbody tr th:only-of-type {\n",
       "        vertical-align: middle;\n",
       "    }\n",
       "\n",
       "    .dataframe tbody tr th {\n",
       "        vertical-align: top;\n",
       "    }\n",
       "\n",
       "    .dataframe thead th {\n",
       "        text-align: right;\n",
       "    }\n",
       "</style>\n",
       "<table border=\"1\" class=\"dataframe\">\n",
       "  <thead>\n",
       "    <tr style=\"text-align: right;\">\n",
       "      <th></th>\n",
       "      <th>Time</th>\n",
       "      <th>Accuracy</th>\n",
       "    </tr>\n",
       "  </thead>\n",
       "  <tbody>\n",
       "    <tr>\n",
       "      <th>24</th>\n",
       "      <td>2022-06-03 23:46:46</td>\n",
       "      <td>0.946809</td>\n",
       "    </tr>\n",
       "    <tr>\n",
       "      <th>25</th>\n",
       "      <td>2022-06-10 03:46:36</td>\n",
       "      <td>0.933667</td>\n",
       "    </tr>\n",
       "    <tr>\n",
       "      <th>26</th>\n",
       "      <td>2022-06-16 11:18:06</td>\n",
       "      <td>0.885482</td>\n",
       "    </tr>\n",
       "    <tr>\n",
       "      <th>27</th>\n",
       "      <td>2022-06-22 16:04:22</td>\n",
       "      <td>0.963079</td>\n",
       "    </tr>\n",
       "    <tr>\n",
       "      <th>28</th>\n",
       "      <td>2022-06-28 23:30:27</td>\n",
       "      <td>0.958073</td>\n",
       "    </tr>\n",
       "  </tbody>\n",
       "</table>\n",
       "</div>"
      ],
      "text/plain": [
       "                  Time  Accuracy\n",
       "24 2022-06-03 23:46:46  0.946809\n",
       "25 2022-06-10 03:46:36  0.933667\n",
       "26 2022-06-16 11:18:06  0.885482\n",
       "27 2022-06-22 16:04:22  0.963079\n",
       "28 2022-06-28 23:30:27  0.958073"
      ]
     },
     "execution_count": 557,
     "metadata": {},
     "output_type": "execute_result"
    }
   ],
   "source": [
    "model_results.tail()"
   ]
  },
  {
   "cell_type": "code",
   "execution_count": 558,
   "metadata": {},
   "outputs": [
    {
     "data": {
      "text/html": [
       "<div>\n",
       "<style scoped>\n",
       "    .dataframe tbody tr th:only-of-type {\n",
       "        vertical-align: middle;\n",
       "    }\n",
       "\n",
       "    .dataframe tbody tr th {\n",
       "        vertical-align: top;\n",
       "    }\n",
       "\n",
       "    .dataframe thead th {\n",
       "        text-align: right;\n",
       "    }\n",
       "</style>\n",
       "<table border=\"1\" class=\"dataframe\">\n",
       "  <thead>\n",
       "    <tr style=\"text-align: right;\">\n",
       "      <th></th>\n",
       "      <th>Time</th>\n",
       "      <th>Accuracy</th>\n",
       "    </tr>\n",
       "  </thead>\n",
       "  <tbody>\n",
       "    <tr>\n",
       "      <th>12</th>\n",
       "      <td>2022-06-03 23:46:46</td>\n",
       "      <td>0.946959</td>\n",
       "    </tr>\n",
       "    <tr>\n",
       "      <th>13</th>\n",
       "      <td>2022-06-10 03:46:36</td>\n",
       "      <td>0.931968</td>\n",
       "    </tr>\n",
       "    <tr>\n",
       "      <th>14</th>\n",
       "      <td>2022-06-16 11:18:06</td>\n",
       "      <td>0.884640</td>\n",
       "    </tr>\n",
       "    <tr>\n",
       "      <th>15</th>\n",
       "      <td>2022-06-22 16:04:22</td>\n",
       "      <td>0.962776</td>\n",
       "    </tr>\n",
       "    <tr>\n",
       "      <th>16</th>\n",
       "      <td>2022-06-28 23:30:27</td>\n",
       "      <td>0.957941</td>\n",
       "    </tr>\n",
       "  </tbody>\n",
       "</table>\n",
       "</div>"
      ],
      "text/plain": [
       "                  Time  Accuracy\n",
       "12 2022-06-03 23:46:46  0.946959\n",
       "13 2022-06-10 03:46:36  0.931968\n",
       "14 2022-06-16 11:18:06  0.884640\n",
       "15 2022-06-22 16:04:22  0.962776\n",
       "16 2022-06-28 23:30:27  0.957941"
      ]
     },
     "execution_count": 558,
     "metadata": {},
     "output_type": "execute_result"
    }
   ],
   "source": [
    "model_results_a.tail()"
   ]
  },
  {
   "cell_type": "code",
   "execution_count": 559,
   "metadata": {},
   "outputs": [
    {
     "data": {
      "image/png": "[encoded data removed]",
      "text/plain": [
       "<Figure size 864x720 with 1 Axes>"
      ]
     },
     "metadata": {
      "needs_background": "light"
     },
     "output_type": "display_data"
    }
   ],
   "source": [
    "# plot the accuracy\n",
    "ax = model_results_a.plot.line(x='Time', y='Accuracy', figsize=(12,10), ylabel='Accuracy', label='Filtered Anomaly Accuracy', color='blue',title=\"Back-tested Accuracy vs Time\")\n",
    "model_results.plot(x='Time', y='Accuracy', figsize=(12,10), color='red', label='Original Accuracy', ax=ax)\n",
    "# add a red line y=0.95\n",
    "ax.axhline(y=0.95, color='red', linestyle='--')\n",
    "plt.show()"
   ]
  },
  {
   "cell_type": "code",
   "execution_count": 560,
   "metadata": {},
   "outputs": [
    {
     "data": {
      "text/plain": [
       "count    17.000000\n",
       "mean     93.551506\n",
       "std       1.854859\n",
       "min      88.548185\n",
       "25%      92.866083\n",
       "50%      93.366708\n",
       "75%      94.806008\n",
       "max      96.307885\n",
       "Name: Accuracy, dtype: float64"
      ]
     },
     "execution_count": 560,
     "metadata": {},
     "output_type": "execute_result"
    }
   ],
   "source": [
    "model_results[model_results.Time >= model_results_a.Time.min()].Accuracy.apply(lambda x: x * 100).describe()"
   ]
  },
  {
   "cell_type": "code",
   "execution_count": 561,
   "metadata": {},
   "outputs": [
    {
     "data": {
      "text/plain": [
       "count    17.000000\n",
       "mean     93.550460\n",
       "std       1.853399\n",
       "min      88.464031\n",
       "25%      92.949757\n",
       "50%      93.575419\n",
       "75%      94.770006\n",
       "max      96.277603\n",
       "Name: Accuracy, dtype: float64"
      ]
     },
     "execution_count": 561,
     "metadata": {},
     "output_type": "execute_result"
    }
   ],
   "source": [
    "model_results_a.Accuracy.apply(lambda x: x * 100).describe()"
   ]
  },
  {
   "cell_type": "markdown",
   "metadata": {},
   "source": [
    "#### Analysis\n",
    "\n",
    "Clearly, our approach here is wrong. This could be because pipelines are more variable than just Helix itself, or that work item wait times are not a good sign of anomaly in Helix. We need another solution to determine whether AzDo & Helix are on the floor to be able to hide predictions when things are not looking good."
   ]
  },
  {
   "cell_type": "markdown",
   "metadata": {},
   "source": [
    "## Next Steps\n",
    "\n",
    "The data analysis here shows that regressing a distribution and spitting out confidence intervals is an effective technique in predicting the length of the pipeline. We still have two problems for this PoC:\n",
    "\n",
    "1. We need to hide/update our predictions when AzDo or Helix is on the floor.\n",
    "2. We need to decompose piplines that have a multimodal distribution.\n",
    "\n",
    "### Implementation\n",
    "\n",
    "We can implmenet the machine learning functionality as a Azure Function that we can call directly from Queue Insights. This enables us to reuse the code featured in this one-pager in production, in python. We'll have a pipeline that can retrain our dataset every week.\n",
    "\n",
    "\n",
    "## Risk\n",
    "\n",
    "* Will the new implementation of any existing functionality cause breaking changes for existing consumers?\n",
    "  * No, this will be a new feature.\n",
    "* What are your assumptions?\n",
    "  * We'll constantly maintain data in the `TimelineBuilds` table. This feature depends on it.\n",
    "* What are your unknowns?\n",
    "  * See above, how do we decompose multimodal distributions and become notified when services are down?\n",
    "* What dependencies will this epic/feature(s) have?\n",
    "  * `TimelineBuilds`\n",
    "  * Python machine learning libraries (python, skikit-learn, distfit, pandas..)\n",
    "  * Azure Functions\n",
    "* Are the dependencies currently in a state that the functionality in the epic can consume them now, or will they need to be updated?\n",
    "  * We can consume them now.\n",
    "* Is there a goal to have this work completed by, and what is the risk of not hitting that date? (e.g. missed OKRs, increased pain-points for consumers, functionality is required for the next product release, et cetera)\n",
    "  * Aug 12, the end of the internship.\n",
    "* Does anything the new feature depend on consume a limited/throttled API resource?\n",
    "  * No. Kusto will be queried once a week to retrain the models.\n",
    "* Have you estimated what maximum usage is?\n",
    "  * No, but it wil be the same as the Queue Insights project.\n",
    "* Are you utilizing any response data that allows intelligent back-off from the service?\n",
    "  * We only query Kusto, so there is no need for back-off.\n",
    "* What is the plan for getting more capacity if the feature both must exist and needs more capacity than available?\n",
    "  * Azure Functions should auto-scale our function if our ML endpoint is being queried hard."
   ]
  },
  {
   "cell_type": "markdown",
   "metadata": {},
   "source": []
  }
 ],
 "metadata": {
  "kernelspec": {
   "display_name": "Python 3.9.12 ('base')",
   "language": "python",
   "name": "python3"
  },
  "language_info": {
   "codemirror_mode": {
    "name": "ipython",
    "version": 3
   },
   "file_extension": ".py",
   "mimetype": "text/x-python",
   "name": "python",
   "nbconvert_exporter": "python",
   "pygments_lexer": "ipython3",
   "version": "3.9.12"
  },
  "orig_nbformat": 4,
  "vscode": {
   "interpreter": {
    "hash": "5c77b19177d291ec2d7cce4548ea50713ac2cc808b6a2de76dcfd4c21b2fd2db"
   }
  }
 },
 "nbformat": 4,
 "nbformat_minor": 2
}
